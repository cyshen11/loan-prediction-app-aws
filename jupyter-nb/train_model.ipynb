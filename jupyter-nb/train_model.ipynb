{
 "cells": [
  {
   "cell_type": "code",
   "execution_count": 166,
   "metadata": {},
   "outputs": [],
   "source": [
    "from autogluon.tabular import TabularDataset, TabularPredictor\n",
    "from sklearn.model_selection import train_test_split\n",
    "import pandas as pd"
   ]
  },
  {
   "cell_type": "markdown",
   "metadata": {},
   "source": [
    "### Split dataset to train test"
   ]
  },
  {
   "cell_type": "code",
   "execution_count": 195,
   "metadata": {},
   "outputs": [],
   "source": [
    "df_original = pd.read_csv('../datasets/loan_with_features.csv')\n",
    "assert df_original.shape[0] > 1"
   ]
  },
  {
   "cell_type": "code",
   "execution_count": 196,
   "metadata": {},
   "outputs": [],
   "source": [
    "# shuffle dataset\n",
    "df = df_original.sample(frac=1, random_state=42)\n",
    "assert not df.iloc[0].equals(df_original.iloc[0])"
   ]
  },
  {
   "cell_type": "code",
   "execution_count": 197,
   "metadata": {},
   "outputs": [],
   "source": [
    "m = df.shape[0]\n",
    "assert m > 1\n",
    "\n",
    "train_df = df.iloc[:round(m * 0.8)]\n",
    "test_df = df.iloc[round(m * 0.8):]\n",
    "assert train_df.shape[0] + test_df.shape[0] == m"
   ]
  },
  {
   "cell_type": "code",
   "execution_count": 199,
   "metadata": {},
   "outputs": [],
   "source": [
    "train_df.to_csv('../datasets/train.csv', index=False)\n",
    "test_df.to_csv('../datasets/test.csv', index=False)"
   ]
  },
  {
   "cell_type": "markdown",
   "metadata": {},
   "source": []
  }
 ],
 "metadata": {
  "language_info": {
   "name": "python"
  }
 },
 "nbformat": 4,
 "nbformat_minor": 2
}
