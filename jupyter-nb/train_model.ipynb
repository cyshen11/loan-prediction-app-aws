{
 "cells": [
  {
   "cell_type": "code",
   "execution_count": 197,
   "metadata": {},
   "outputs": [],
   "source": [
    "from autogluon.tabular import TabularDataset, TabularPredictor\n",
    "from sklearn.model_selection import train_test_split\n",
    "import pandas as pd"
   ]
  },
  {
   "cell_type": "markdown",
   "metadata": {},
   "source": [
    "### Split dataset to train test"
   ]
  },
  {
   "cell_type": "code",
   "execution_count": null,
   "metadata": {},
   "outputs": [],
   "source": [
    "df_original = pd.read_csv('../datasets/loan_with_features.csv')\n",
    "# Assert that the DataFrame has more than 1 row.\n",
    "assert df_original.shape[0] > 1"
   ]
  },
  {
   "cell_type": "code",
   "execution_count": null,
   "metadata": {},
   "outputs": [],
   "source": [
    "# Shuffle dataset\n",
    "df = df_original.sample(frac=1, random_state=42)\n",
    "# Assert that the DataFrame after shuffle, have the same rows as original\n",
    "assert not df.iloc[0].equals(df_original.iloc[0])"
   ]
  },
  {
   "cell_type": "code",
   "execution_count": null,
   "metadata": {},
   "outputs": [],
   "source": [
    "# Get dataset length\n",
    "m = df.shape[0]\n",
    "# Assert dataset length more than 1\n",
    "assert m > 1\n",
    "\n",
    "split_ratio = 0.7\n",
    "# First 70% for training dataset\n",
    "train_df = df.iloc[:round(m * split_ratio)]\n",
    "# Last 30% for test dataset\n",
    "test_df = df.iloc[round(m * split_ratio):]\n",
    "# Assert that the sum of training and test dataset length equals to original dataset\n",
    "assert train_df.shape[0] + test_df.shape[0] == m"
   ]
  },
  {
   "cell_type": "code",
   "execution_count": null,
   "metadata": {},
   "outputs": [],
   "source": [
    "# Export training and test datasets\n",
    "train_df.to_csv('../datasets/train.csv', index=False)\n",
    "test_df.to_csv('../datasets/test.csv', index=False)"
   ]
  },
  {
   "cell_type": "markdown",
   "metadata": {},
   "source": [
    "### Training"
   ]
  },
  {
   "cell_type": "code",
   "execution_count": null,
   "metadata": {},
   "outputs": [
    {
     "name": "stderr",
     "output_type": "stream",
     "text": [
      "Loaded data from: ../datasets/train.csv | Columns = 14 / 14 | Rows = 202 -> 202\n"
     ]
    },
    {
     "data": {
      "text/html": [
       "<div>\n",
       "<style scoped>\n",
       "    .dataframe tbody tr th:only-of-type {\n",
       "        vertical-align: middle;\n",
       "    }\n",
       "\n",
       "    .dataframe tbody tr th {\n",
       "        vertical-align: top;\n",
       "    }\n",
       "\n",
       "    .dataframe thead th {\n",
       "        text-align: right;\n",
       "    }\n",
       "</style>\n",
       "<table border=\"1\" class=\"dataframe\">\n",
       "  <thead>\n",
       "    <tr style=\"text-align: right;\">\n",
       "      <th></th>\n",
       "      <th>loan_duration</th>\n",
       "      <th>loan_amount</th>\n",
       "      <th>loan_payments</th>\n",
       "      <th>days_between</th>\n",
       "      <th>account_frequency</th>\n",
       "      <th>avg_order_amount</th>\n",
       "      <th>avg_trans_amount</th>\n",
       "      <th>avg_trans_balance</th>\n",
       "      <th>n_trans</th>\n",
       "      <th>card_type</th>\n",
       "      <th>avg_salary</th>\n",
       "      <th>gender</th>\n",
       "      <th>age</th>\n",
       "      <th>loan_status</th>\n",
       "    </tr>\n",
       "  </thead>\n",
       "  <tbody>\n",
       "    <tr>\n",
       "      <th>0</th>\n",
       "      <td>36</td>\n",
       "      <td>299088</td>\n",
       "      <td>8308.0</td>\n",
       "      <td>419 days</td>\n",
       "      <td>POPLATEK MESICNE</td>\n",
       "      <td>4842.600000</td>\n",
       "      <td>12746.619048</td>\n",
       "      <td>51992.944444</td>\n",
       "      <td>126</td>\n",
       "      <td>NaN</td>\n",
       "      <td>8110</td>\n",
       "      <td>F</td>\n",
       "      <td>28</td>\n",
       "      <td>B</td>\n",
       "    </tr>\n",
       "    <tr>\n",
       "      <th>1</th>\n",
       "      <td>12</td>\n",
       "      <td>30276</td>\n",
       "      <td>2523.0</td>\n",
       "      <td>498 days</td>\n",
       "      <td>POPLATEK MESICNE</td>\n",
       "      <td>2653.550000</td>\n",
       "      <td>12061.103030</td>\n",
       "      <td>61382.915152</td>\n",
       "      <td>165</td>\n",
       "      <td>NaN</td>\n",
       "      <td>9893</td>\n",
       "      <td>M</td>\n",
       "      <td>35</td>\n",
       "      <td>A</td>\n",
       "    </tr>\n",
       "    <tr>\n",
       "      <th>2</th>\n",
       "      <td>48</td>\n",
       "      <td>154416</td>\n",
       "      <td>3217.0</td>\n",
       "      <td>176 days</td>\n",
       "      <td>POPLATEK TYDNE</td>\n",
       "      <td>3216.700000</td>\n",
       "      <td>9740.156250</td>\n",
       "      <td>46716.156250</td>\n",
       "      <td>32</td>\n",
       "      <td>NaN</td>\n",
       "      <td>8968</td>\n",
       "      <td>F</td>\n",
       "      <td>24</td>\n",
       "      <td>A</td>\n",
       "    </tr>\n",
       "    <tr>\n",
       "      <th>3</th>\n",
       "      <td>12</td>\n",
       "      <td>92400</td>\n",
       "      <td>7700.0</td>\n",
       "      <td>459 days</td>\n",
       "      <td>POPLATEK MESICNE</td>\n",
       "      <td>4137.933333</td>\n",
       "      <td>9193.298077</td>\n",
       "      <td>42291.298077</td>\n",
       "      <td>104</td>\n",
       "      <td>classic</td>\n",
       "      <td>10177</td>\n",
       "      <td>F</td>\n",
       "      <td>23</td>\n",
       "      <td>A</td>\n",
       "    </tr>\n",
       "    <tr>\n",
       "      <th>4</th>\n",
       "      <td>12</td>\n",
       "      <td>42900</td>\n",
       "      <td>3575.0</td>\n",
       "      <td>646 days</td>\n",
       "      <td>POPLATEK MESICNE</td>\n",
       "      <td>5264.666667</td>\n",
       "      <td>11403.582857</td>\n",
       "      <td>50590.622857</td>\n",
       "      <td>350</td>\n",
       "      <td>NaN</td>\n",
       "      <td>8541</td>\n",
       "      <td>F</td>\n",
       "      <td>37</td>\n",
       "      <td>A</td>\n",
       "    </tr>\n",
       "  </tbody>\n",
       "</table>\n",
       "</div>"
      ],
      "text/plain": [
       "   loan_duration  loan_amount  loan_payments days_between account_frequency  \\\n",
       "0             36       299088         8308.0     419 days  POPLATEK MESICNE   \n",
       "1             12        30276         2523.0     498 days  POPLATEK MESICNE   \n",
       "2             48       154416         3217.0     176 days    POPLATEK TYDNE   \n",
       "3             12        92400         7700.0     459 days  POPLATEK MESICNE   \n",
       "4             12        42900         3575.0     646 days  POPLATEK MESICNE   \n",
       "\n",
       "   avg_order_amount  avg_trans_amount  avg_trans_balance  n_trans card_type  \\\n",
       "0       4842.600000      12746.619048       51992.944444      126       NaN   \n",
       "1       2653.550000      12061.103030       61382.915152      165       NaN   \n",
       "2       3216.700000       9740.156250       46716.156250       32       NaN   \n",
       "3       4137.933333       9193.298077       42291.298077      104   classic   \n",
       "4       5264.666667      11403.582857       50590.622857      350       NaN   \n",
       "\n",
       "   avg_salary gender  age loan_status  \n",
       "0        8110      F   28           B  \n",
       "1        9893      M   35           A  \n",
       "2        8968      F   24           A  \n",
       "3       10177      F   23           A  \n",
       "4        8541      F   37           A  "
      ]
     },
     "execution_count": 221,
     "metadata": {},
     "output_type": "execute_result"
    }
   ],
   "source": [
    "# Read training dataset using TabularDataset class\n",
    "train_data = TabularDataset('../datasets/train.csv')\n",
    "train_data.head()"
   ]
  },
  {
   "cell_type": "code",
   "execution_count": null,
   "metadata": {},
   "outputs": [
    {
     "name": "stderr",
     "output_type": "stream",
     "text": [
      "Warning: path already exists! This predictor may overwrite an existing predictor! path=\"AutogluonModels/final\"\n",
      "Verbosity: 2 (Standard Logging)\n",
      "=================== System Info ===================\n",
      "AutoGluon Version:  1.2\n",
      "Python Version:     3.10.0\n",
      "Operating System:   Darwin\n",
      "Platform Machine:   x86_64\n",
      "Platform Version:   Darwin Kernel Version 24.3.0: Thu Jan  2 20:22:00 PST 2025; root:xnu-11215.81.4~3/RELEASE_X86_64\n",
      "CPU Count:          8\n",
      "Memory Avail:       5.31 GB / 16.00 GB (33.2%)\n",
      "Disk Space Avail:   48.90 GB / 233.47 GB (20.9%)\n",
      "===================================================\n",
      "Presets specified: ['optimize_for_deployment']\n",
      "Beginning AutoGluon training ...\n",
      "AutoGluon will save models to \"/Users/vincentcheng/Documents/data_science/loan-prediction-app-aws/jupyter-nb/AutogluonModels/final\"\n",
      "Train Data Rows:    202\n",
      "Train Data Columns: 13\n",
      "Label Column:       loan_status\n",
      "AutoGluon infers your prediction problem is: 'binary' (because only two unique label-values observed).\n",
      "\t2 unique label values:  ['B', 'A']\n",
      "\tIf 'binary' is not the correct problem_type, please manually specify the problem_type parameter during Predictor init (You may specify problem_type as one of: ['binary', 'multiclass', 'regression', 'quantile'])\n",
      "Problem Type:       binary\n",
      "Preprocessing data ...\n",
      "Selected class <--> label mapping:  class 1 = B, class 0 = A\n",
      "\tNote: For your binary classification, AutoGluon arbitrarily selected which label-value represents positive (B) vs negative (A) class.\n",
      "\tTo explicitly set the positive_class, either rename classes to 1 and 0, or specify positive_class in Predictor init.\n",
      "Using Feature Generators to preprocess the data ...\n",
      "Fitting AutoMLPipelineFeatureGenerator...\n",
      "\tAvailable Memory:                    5439.92 MB\n",
      "\tTrain Data (Original)  Memory Usage: 0.06 MB (0.0% of available memory)\n",
      "\tInferring data type of each feature based on column values. Set feature_metadata_in to manually specify special dtypes of the features.\n",
      "\tStage 1 Generators:\n",
      "\t\tFitting AsTypeFeatureGenerator...\n",
      "\t\t\tNote: Converting 1 features to boolean dtype as they only contain 2 unique values.\n",
      "\tStage 2 Generators:\n",
      "\t\tFitting FillNaFeatureGenerator...\n",
      "\tStage 3 Generators:\n",
      "\t\tFitting IdentityFeatureGenerator...\n",
      "\t\tFitting CategoryFeatureGenerator...\n",
      "\t\t\tFitting CategoryMemoryMinimizeFeatureGenerator...\n",
      "\tStage 4 Generators:\n",
      "\t\tFitting DropUniqueFeatureGenerator...\n",
      "\tStage 5 Generators:\n",
      "\t\tFitting DropDuplicatesFeatureGenerator...\n",
      "\tTypes of features in original data (raw dtype, special dtypes):\n",
      "\t\t('float', [])  : 4 | ['loan_payments', 'avg_order_amount', 'avg_trans_amount', 'avg_trans_balance']\n",
      "\t\t('int', [])    : 5 | ['loan_duration', 'loan_amount', 'n_trans', 'avg_salary', 'age']\n",
      "\t\t('object', []) : 4 | ['days_between', 'account_frequency', 'card_type', 'gender']\n",
      "\tTypes of features in processed data (raw dtype, special dtypes):\n",
      "\t\t('category', [])  : 3 | ['days_between', 'account_frequency', 'card_type']\n",
      "\t\t('float', [])     : 4 | ['loan_payments', 'avg_order_amount', 'avg_trans_amount', 'avg_trans_balance']\n",
      "\t\t('int', [])       : 5 | ['loan_duration', 'loan_amount', 'n_trans', 'avg_salary', 'age']\n",
      "\t\t('int', ['bool']) : 1 | ['gender']\n",
      "\t0.1s = Fit runtime\n",
      "\t13 features in original data used to generate 13 features in processed data.\n",
      "\tTrain Data (Processed) Memory Usage: 0.02 MB (0.0% of available memory)\n",
      "Data preprocessing and feature engineering runtime = 0.17s ...\n",
      "AutoGluon will gauge predictive performance using evaluation metric: 'accuracy'\n",
      "\tTo change this, specify the eval_metric parameter of Predictor()\n",
      "Automatically generating train/validation split with holdout_frac=0.2, Train Rows: 161, Val Rows: 41\n",
      "User-specified model hyperparameters to be fit:\n",
      "{\n",
      "\t'NN_TORCH': [{}],\n",
      "\t'CAT': [{}],\n",
      "\t'FASTAI': [{}],\n",
      "\t'RF': [{'criterion': 'gini', 'ag_args': {'name_suffix': 'Gini', 'problem_types': ['binary', 'multiclass']}}, {'criterion': 'entropy', 'ag_args': {'name_suffix': 'Entr', 'problem_types': ['binary', 'multiclass']}}, {'criterion': 'squared_error', 'ag_args': {'name_suffix': 'MSE', 'problem_types': ['regression', 'quantile']}}],\n",
      "\t'XT': [{'criterion': 'gini', 'ag_args': {'name_suffix': 'Gini', 'problem_types': ['binary', 'multiclass']}}, {'criterion': 'entropy', 'ag_args': {'name_suffix': 'Entr', 'problem_types': ['binary', 'multiclass']}}, {'criterion': 'squared_error', 'ag_args': {'name_suffix': 'MSE', 'problem_types': ['regression', 'quantile']}}],\n",
      "\t'KNN': [{'weights': 'uniform', 'ag_args': {'name_suffix': 'Unif'}}, {'weights': 'distance', 'ag_args': {'name_suffix': 'Dist'}}],\n",
      "}\n",
      "Fitting 9 L1 models, fit_strategy=\"sequential\" ...\n",
      "Fitting model: KNeighborsUnif ...\n",
      "\t0.9024\t = Validation score   (accuracy)\n",
      "\t0.01s\t = Training   runtime\n",
      "\t0.02s\t = Validation runtime\n",
      "Fitting model: KNeighborsDist ...\n",
      "\t0.9024\t = Validation score   (accuracy)\n",
      "\t0.01s\t = Training   runtime\n",
      "\t0.02s\t = Validation runtime\n",
      "Fitting model: RandomForestGini ...\n",
      "\t0.9024\t = Validation score   (accuracy)\n",
      "\t0.61s\t = Training   runtime\n",
      "\t0.04s\t = Validation runtime\n",
      "Fitting model: RandomForestEntr ...\n",
      "\t0.9024\t = Validation score   (accuracy)\n",
      "\t0.53s\t = Training   runtime\n",
      "\t0.13s\t = Validation runtime\n",
      "Fitting model: CatBoost ...\n",
      "\t0.9024\t = Validation score   (accuracy)\n",
      "\t0.6s\t = Training   runtime\n",
      "\t0.0s\t = Validation runtime\n",
      "Fitting model: ExtraTreesGini ...\n",
      "\t0.9024\t = Validation score   (accuracy)\n",
      "\t0.5s\t = Training   runtime\n",
      "\t0.06s\t = Validation runtime\n",
      "Fitting model: ExtraTreesEntr ...\n",
      "\t0.9024\t = Validation score   (accuracy)\n",
      "\t0.47s\t = Training   runtime\n",
      "\t0.04s\t = Validation runtime\n",
      "Fitting model: NeuralNetFastAI ...\n",
      "No improvement since epoch 0: early stopping\n",
      "\t0.9024\t = Validation score   (accuracy)\n",
      "\t0.93s\t = Training   runtime\n",
      "\t0.01s\t = Validation runtime\n",
      "Fitting model: NeuralNetTorch ...\n",
      "\t0.9024\t = Validation score   (accuracy)\n",
      "\t0.39s\t = Training   runtime\n",
      "\t0.01s\t = Validation runtime\n",
      "Fitting model: WeightedEnsemble_L2 ...\n",
      "\tEnsemble Weights: {'NeuralNetFastAI': 1.0}\n",
      "\t0.9024\t = Validation score   (accuracy)\n",
      "\t0.07s\t = Training   runtime\n",
      "\t0.0s\t = Validation runtime\n",
      "AutoGluon training complete, total runtime = 4.82s ... Best model: WeightedEnsemble_L2 | Estimated inference throughput: 3445.1 rows/s (41 batch size)\n",
      "Disabling decision threshold calibration for metric `accuracy` due to having fewer than 10000 rows of validation data for calibration, to avoid overfitting (41 rows).\n",
      "\t`accuracy` is generally not improved through threshold calibration. Force calibration via specifying `calibrate_decision_threshold=True`.\n",
      "Deleting model KNeighborsUnif. All files under /Users/vincentcheng/Documents/data_science/loan-prediction-app-aws/jupyter-nb/AutogluonModels/final/models/KNeighborsUnif will be removed.\n",
      "Deleting model KNeighborsDist. All files under /Users/vincentcheng/Documents/data_science/loan-prediction-app-aws/jupyter-nb/AutogluonModels/final/models/KNeighborsDist will be removed.\n",
      "Deleting model RandomForestGini. All files under /Users/vincentcheng/Documents/data_science/loan-prediction-app-aws/jupyter-nb/AutogluonModels/final/models/RandomForestGini will be removed.\n",
      "Deleting model RandomForestEntr. All files under /Users/vincentcheng/Documents/data_science/loan-prediction-app-aws/jupyter-nb/AutogluonModels/final/models/RandomForestEntr will be removed.\n",
      "Deleting model CatBoost. All files under /Users/vincentcheng/Documents/data_science/loan-prediction-app-aws/jupyter-nb/AutogluonModels/final/models/CatBoost will be removed.\n",
      "Deleting model ExtraTreesGini. All files under /Users/vincentcheng/Documents/data_science/loan-prediction-app-aws/jupyter-nb/AutogluonModels/final/models/ExtraTreesGini will be removed.\n",
      "Deleting model ExtraTreesEntr. All files under /Users/vincentcheng/Documents/data_science/loan-prediction-app-aws/jupyter-nb/AutogluonModels/final/models/ExtraTreesEntr will be removed.\n",
      "Deleting model NeuralNetTorch. All files under /Users/vincentcheng/Documents/data_science/loan-prediction-app-aws/jupyter-nb/AutogluonModels/final/models/NeuralNetTorch will be removed.\n",
      "/Users/vincentcheng/Documents/data_science/loan-prediction-app-aws/.venv/lib/python3.10/site-packages/fastai/learner.py:455: UserWarning: load_learner` uses Python's insecure pickle module, which can execute malicious arbitrary code when loading. Only load files you trust.\n",
      "If you only need to load model weights and optimizer state, use the safe `Learner.load` instead.\n",
      "  warn(\"load_learner` uses Python's insecure pickle module, which can execute malicious arbitrary code when loading. Only load files you trust.\\nIf you only need to load model weights and optimizer state, use the safe `Learner.load` instead.\")\n",
      "TabularPredictor saved. To load, use: predictor = TabularPredictor.load(\"/Users/vincentcheng/Documents/data_science/loan-prediction-app-aws/jupyter-nb/AutogluonModels/final\")\n"
     ]
    }
   ],
   "source": [
    "MODEL_SAVE_PATH = 'AutogluonModels/final_deployment_optimized'\n",
    "\n",
    "# Define hyperparameters for AutoGluon TabularPredictor.\n",
    "hyperparameters = {\n",
    "    # Neural Network (Torch backend) - default configuration\n",
    "    'NN_TORCH': [{}],\n",
    "\n",
    "    # CatBoost - default configuration\n",
    "    'CAT': [{}],\n",
    "\n",
    "    # FastAI Neural Network - default configuration\n",
    "    'FASTAI': [{}],\n",
    "\n",
    "    # Random Forest configurations\n",
    "    # 'ag_args' is used for AutoGluon specific arguments:\n",
    "    #   'name_suffix': Appends a suffix to the model name for easier identification.\n",
    "    #   'problem_types': Restricts this model configuration to specific problem types.\n",
    "    'RF': [\n",
    "        {'criterion': 'gini', 'ag_args': {'name_suffix': 'Gini', 'problem_types': ['binary', 'multiclass']}},\n",
    "        {'criterion': 'entropy', 'ag_args': {'name_suffix': 'Entr', 'problem_types': ['binary', 'multiclass']}},\n",
    "        # 'squared_error' is for regression, ensure 'loan_status' is not regression if this is active\n",
    "        {'criterion': 'squared_error', 'ag_args': {'name_suffix': 'MSE', 'problem_types': ['regression', 'quantile']}}\n",
    "    ],\n",
    "\n",
    "    # Extra Trees configurations (similar structure to Random Forest)\n",
    "    'XT': [\n",
    "        {'criterion': 'gini', 'ag_args': {'name_suffix': 'Gini', 'problem_types': ['binary', 'multiclass']}},\n",
    "        {'criterion': 'entropy', 'ag_args': {'name_suffix': 'Entr', 'problem_types': ['binary', 'multiclass']}},\n",
    "        {'criterion': 'squared_error', 'ag_args': {'name_suffix': 'MSE', 'problem_types': ['regression', 'quantile']}}\n",
    "    ],\n",
    "\n",
    "    # K-Nearest Neighbors configurations\n",
    "    'KNN': [\n",
    "        {'weights': 'uniform', 'ag_args': {'name_suffix': 'Unif'}},\n",
    "        {'weights': 'distance', 'ag_args': {'name_suffix': 'Dist'}}\n",
    "    ],\n",
    "}\n",
    "\n",
    "# Initialize and train the TabularPredictor\n",
    "predictor = (\n",
    "  TabularPredictor(\n",
    "    label='loan_status',      # Target variable to predict\n",
    "    path=MODEL_SAVE_PATH      # Directory to save trained models\n",
    "  )\n",
    "  .fit(\n",
    "    train_data,\n",
    "    hyperparameters=hyperparameters,\n",
    "    presets='optimize_for_deployment', # Optimizes for inference speed and deployment ease\n",
    "  )\n",
    ")"
   ]
  },
  {
   "cell_type": "markdown",
   "metadata": {},
   "source": [
    "### Prediction"
   ]
  },
  {
   "cell_type": "code",
   "execution_count": null,
   "metadata": {},
   "outputs": [
    {
     "name": "stderr",
     "output_type": "stream",
     "text": [
      "Loaded data from: ../datasets/test.csv | Columns = 14 / 14 | Rows = 87 -> 87\n",
      "/Users/vincentcheng/Documents/data_science/loan-prediction-app-aws/.venv/lib/python3.10/site-packages/fastai/learner.py:455: UserWarning: load_learner` uses Python's insecure pickle module, which can execute malicious arbitrary code when loading. Only load files you trust.\n",
      "If you only need to load model weights and optimizer state, use the safe `Learner.load` instead.\n",
      "  warn(\"load_learner` uses Python's insecure pickle module, which can execute malicious arbitrary code when loading. Only load files you trust.\\nIf you only need to load model weights and optimizer state, use the safe `Learner.load` instead.\")\n"
     ]
    },
    {
     "data": {
      "text/plain": [
       "0    A\n",
       "1    A\n",
       "2    A\n",
       "3    A\n",
       "4    A\n",
       "Name: loan_status, dtype: object"
      ]
     },
     "execution_count": 223,
     "metadata": {},
     "output_type": "execute_result"
    }
   ],
   "source": [
    "# Read test dataset using TabularDataset class\n",
    "test_data = TabularDataset('../datasets/test.csv')\n",
    "\n",
    "# Predict test dataset\n",
    "y_pred = predictor.predict(test_data.drop(columns=['loan_status']))\n",
    "# Preview predictions\n",
    "y_pred.head()"
   ]
  },
  {
   "cell_type": "code",
   "execution_count": 224,
   "metadata": {},
   "outputs": [
    {
     "name": "stderr",
     "output_type": "stream",
     "text": [
      "/Users/vincentcheng/Documents/data_science/loan-prediction-app-aws/.venv/lib/python3.10/site-packages/fastai/learner.py:455: UserWarning: load_learner` uses Python's insecure pickle module, which can execute malicious arbitrary code when loading. Only load files you trust.\n",
      "If you only need to load model weights and optimizer state, use the safe `Learner.load` instead.\n",
      "  warn(\"load_learner` uses Python's insecure pickle module, which can execute malicious arbitrary code when loading. Only load files you trust.\\nIf you only need to load model weights and optimizer state, use the safe `Learner.load` instead.\")\n"
     ]
    },
    {
     "data": {
      "text/plain": [
       "{'accuracy': 0.8850574712643678,\n",
       " 'balanced_accuracy': 0.5435064935064935,\n",
       " 'mcc': 0.185184647595632,\n",
       " 'roc_auc': 0.5701298701298704,\n",
       " 'f1': 0.16666666666666666,\n",
       " 'precision': 0.5,\n",
       " 'recall': 0.1}"
      ]
     },
     "execution_count": 224,
     "metadata": {},
     "output_type": "execute_result"
    }
   ],
   "source": [
    "predictor.evaluate(test_data, silent=True)"
   ]
  },
  {
   "cell_type": "code",
   "execution_count": 225,
   "metadata": {},
   "outputs": [
    {
     "name": "stderr",
     "output_type": "stream",
     "text": [
      "/Users/vincentcheng/Documents/data_science/loan-prediction-app-aws/.venv/lib/python3.10/site-packages/fastai/learner.py:455: UserWarning: load_learner` uses Python's insecure pickle module, which can execute malicious arbitrary code when loading. Only load files you trust.\n",
      "If you only need to load model weights and optimizer state, use the safe `Learner.load` instead.\n",
      "  warn(\"load_learner` uses Python's insecure pickle module, which can execute malicious arbitrary code when loading. Only load files you trust.\\nIf you only need to load model weights and optimizer state, use the safe `Learner.load` instead.\")\n"
     ]
    },
    {
     "data": {
      "text/html": [
       "<div>\n",
       "<style scoped>\n",
       "    .dataframe tbody tr th:only-of-type {\n",
       "        vertical-align: middle;\n",
       "    }\n",
       "\n",
       "    .dataframe tbody tr th {\n",
       "        vertical-align: top;\n",
       "    }\n",
       "\n",
       "    .dataframe thead th {\n",
       "        text-align: right;\n",
       "    }\n",
       "</style>\n",
       "<table border=\"1\" class=\"dataframe\">\n",
       "  <thead>\n",
       "    <tr style=\"text-align: right;\">\n",
       "      <th></th>\n",
       "      <th>model</th>\n",
       "      <th>score_test</th>\n",
       "      <th>score_val</th>\n",
       "      <th>eval_metric</th>\n",
       "      <th>pred_time_test</th>\n",
       "      <th>pred_time_val</th>\n",
       "      <th>fit_time</th>\n",
       "      <th>pred_time_test_marginal</th>\n",
       "      <th>pred_time_val_marginal</th>\n",
       "      <th>fit_time_marginal</th>\n",
       "      <th>stack_level</th>\n",
       "      <th>can_infer</th>\n",
       "      <th>fit_order</th>\n",
       "    </tr>\n",
       "  </thead>\n",
       "  <tbody>\n",
       "    <tr>\n",
       "      <th>0</th>\n",
       "      <td>NeuralNetFastAI</td>\n",
       "      <td>0.885057</td>\n",
       "      <td>0.902439</td>\n",
       "      <td>accuracy</td>\n",
       "      <td>0.126467</td>\n",
       "      <td>0.011165</td>\n",
       "      <td>0.934460</td>\n",
       "      <td>0.126467</td>\n",
       "      <td>0.011165</td>\n",
       "      <td>0.934460</td>\n",
       "      <td>1</td>\n",
       "      <td>True</td>\n",
       "      <td>1</td>\n",
       "    </tr>\n",
       "    <tr>\n",
       "      <th>1</th>\n",
       "      <td>WeightedEnsemble_L2</td>\n",
       "      <td>0.885057</td>\n",
       "      <td>0.902439</td>\n",
       "      <td>accuracy</td>\n",
       "      <td>0.128661</td>\n",
       "      <td>0.011901</td>\n",
       "      <td>1.004319</td>\n",
       "      <td>0.002194</td>\n",
       "      <td>0.000736</td>\n",
       "      <td>0.069859</td>\n",
       "      <td>2</td>\n",
       "      <td>True</td>\n",
       "      <td>2</td>\n",
       "    </tr>\n",
       "  </tbody>\n",
       "</table>\n",
       "</div>"
      ],
      "text/plain": [
       "                 model  score_test  score_val eval_metric  pred_time_test  \\\n",
       "0      NeuralNetFastAI    0.885057   0.902439    accuracy        0.126467   \n",
       "1  WeightedEnsemble_L2    0.885057   0.902439    accuracy        0.128661   \n",
       "\n",
       "   pred_time_val  fit_time  pred_time_test_marginal  pred_time_val_marginal  \\\n",
       "0       0.011165  0.934460                 0.126467                0.011165   \n",
       "1       0.011901  1.004319                 0.002194                0.000736   \n",
       "\n",
       "   fit_time_marginal  stack_level  can_infer  fit_order  \n",
       "0           0.934460            1       True          1  \n",
       "1           0.069859            2       True          2  "
      ]
     },
     "execution_count": 225,
     "metadata": {},
     "output_type": "execute_result"
    }
   ],
   "source": [
    "predictor.leaderboard(test_data)"
   ]
  },
  {
   "cell_type": "code",
   "execution_count": 226,
   "metadata": {},
   "outputs": [
    {
     "data": {
      "text/plain": [
       "37    B\n",
       "44    B\n",
       "Name: loan_status, dtype: object"
      ]
     },
     "execution_count": 226,
     "metadata": {},
     "output_type": "execute_result"
    }
   ],
   "source": [
    "y_pred[y_pred == \"B\"]"
   ]
  },
  {
   "cell_type": "code",
   "execution_count": 232,
   "metadata": {},
   "outputs": [
    {
     "data": {
      "text/plain": [
       "loan_duration                      24\n",
       "loan_amount                    189696\n",
       "loan_payments                  7904.0\n",
       "days_between                 134 days\n",
       "account_frequency    POPLATEK MESICNE\n",
       "avg_order_amount               3861.6\n",
       "avg_trans_amount               4500.0\n",
       "avg_trans_balance             14900.0\n",
       "n_trans                             5\n",
       "card_type                         NaN\n",
       "avg_salary                       8441\n",
       "gender                              F\n",
       "age                                24\n",
       "loan_status                         B\n",
       "Name: 37, dtype: object"
      ]
     },
     "execution_count": 232,
     "metadata": {},
     "output_type": "execute_result"
    }
   ],
   "source": [
    "# Sample test case for loan that will not be paid off\n",
    "test_data.iloc[37]"
   ]
  },
  {
   "cell_type": "markdown",
   "metadata": {},
   "source": [
    "POPLATEK MESICNE: Monthly Issuance"
   ]
  },
  {
   "cell_type": "code",
   "execution_count": 228,
   "metadata": {},
   "outputs": [
    {
     "data": {
      "text/plain": [
       "Timestamp('2024-12-13 00:00:00')"
      ]
     },
     "execution_count": 228,
     "metadata": {},
     "output_type": "execute_result"
    }
   ],
   "source": [
    "from datetime import timedelta\n",
    "\n",
    "pd.to_datetime('2025-04-26') - timedelta(134)"
   ]
  }
 ],
 "metadata": {
  "kernelspec": {
   "display_name": ".venv",
   "language": "python",
   "name": "python3"
  },
  "language_info": {
   "codemirror_mode": {
    "name": "ipython",
    "version": 3
   },
   "file_extension": ".py",
   "mimetype": "text/x-python",
   "name": "python",
   "nbconvert_exporter": "python",
   "pygments_lexer": "ipython3",
   "version": "3.10.0"
  }
 },
 "nbformat": 4,
 "nbformat_minor": 2
}
