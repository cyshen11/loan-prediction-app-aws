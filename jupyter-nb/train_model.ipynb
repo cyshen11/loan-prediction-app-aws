{
 "cells": [
  {
   "cell_type": "code",
   "execution_count": 27,
   "metadata": {},
   "outputs": [],
   "source": [
    "import awswrangler as wr\n",
    "from dotenv import load_dotenv\n",
    "import os\n",
    "import boto3\n",
    "import pandas as pd"
   ]
  },
  {
   "cell_type": "code",
   "execution_count": 2,
   "metadata": {},
   "outputs": [
    {
     "data": {
      "text/plain": [
       "True"
      ]
     },
     "execution_count": 2,
     "metadata": {},
     "output_type": "execute_result"
    }
   ],
   "source": [
    "load_dotenv()"
   ]
  },
  {
   "cell_type": "markdown",
   "metadata": {},
   "source": [
    "### Configuration"
   ]
  },
  {
   "cell_type": "code",
   "execution_count": 3,
   "metadata": {},
   "outputs": [
    {
     "name": "stdout",
     "output_type": "stream",
     "text": [
      "Attempting to automatically open the SSO authorization page in your default browser.\n",
      "If the browser does not open or you wish to use a different device to authorize this request, open the following URL:\n",
      "\n",
      "https://d-9067d8c794.awsapps.com/start/#/device\n",
      "\n",
      "Then enter the code:\n",
      "\n",
      "XHWN-WMDK\n",
      "Successfully logged into Start URL: https://d-9067d8c794.awsapps.com/start\n"
     ]
    }
   ],
   "source": [
    "!aws sso login --profile $AWS_PROFILE"
   ]
  },
  {
   "cell_type": "code",
   "execution_count": 11,
   "metadata": {},
   "outputs": [],
   "source": [
    "my_session = boto3.setup_default_session(profile_name=os.environ.get(\"AWS_PROFILE\"))"
   ]
  },
  {
   "cell_type": "code",
   "execution_count": 5,
   "metadata": {},
   "outputs": [],
   "source": [
    "S3_BUCKET = os.environ.get(\"S3_BUCKET\")"
   ]
  },
  {
   "cell_type": "markdown",
   "metadata": {},
   "source": [
    "### Read Data"
   ]
  },
  {
   "cell_type": "markdown",
   "metadata": {},
   "source": [
    "Need to turn off Block public access (bucket settings)"
   ]
  },
  {
   "cell_type": "code",
   "execution_count": 15,
   "metadata": {},
   "outputs": [],
   "source": [
    "def read_data(table):\n",
    "  return wr.s3.read_parquet(\n",
    "    path=f\"s3://{S3_BUCKET}/financial-export-18042025/financial/financial.{table}/1/\", \n",
    "    dataset=True,\n",
    "    boto3_session=my_session\n",
    "  )"
   ]
  },
  {
   "cell_type": "code",
   "execution_count": 16,
   "metadata": {},
   "outputs": [],
   "source": [
    "account_df = read_data('account')\n",
    "card_df = read_data('card')\n",
    "client_df = read_data('client')\n",
    "disp_df = read_data('disp')\n",
    "district_df = read_data('district')\n",
    "loan_df = read_data('loan')\n",
    "order_df = read_data('order')\n",
    "trans_df = read_data('trans')"
   ]
  },
  {
   "cell_type": "markdown",
   "metadata": {},
   "source": [
    "### Create Features"
   ]
  },
  {
   "cell_type": "markdown",
   "metadata": {},
   "source": [
    "Join loan and account"
   ]
  },
  {
   "cell_type": "code",
   "execution_count": null,
   "metadata": {},
   "outputs": [],
   "source": [
    "loan_df.rename(\n",
    "  columns={\n",
    "    'date': 'loan_date'\n",
    "  },\n",
    "  inplace=True\n",
    ")\n",
    "\n",
    "account_df.rename(\n",
    "  columns={\n",
    "    'date': 'account_date'\n",
    "  },\n",
    "  inplace=True\n",
    ")\n",
    "\n",
    "df = pd.merge(\n",
    "  left=loan_df, \n",
    "  right=account_df, \n",
    "  how='left',\n",
    "  on='account_id'\n",
    ")"
   ]
  },
  {
   "cell_type": "markdown",
   "metadata": {},
   "source": [
    "Join loan and disp"
   ]
  },
  {
   "cell_type": "code",
   "execution_count": null,
   "metadata": {},
   "outputs": [],
   "source": [
    "disp_df.rename(\n",
    "  columns={\n",
    "    'type': 'disp_type'\n",
    "  },\n",
    "  inplace=True\n",
    ")\n",
    "\n",
    "df = pd.merge(\n",
    "  left=df, \n",
    "  right=disp_df, \n",
    "  how='left',\n",
    "  on='account_id'\n",
    ")"
   ]
  },
  {
   "cell_type": "markdown",
   "metadata": {},
   "source": [
    "Join loan with card"
   ]
  },
  {
   "cell_type": "code",
   "execution_count": null,
   "metadata": {},
   "outputs": [],
   "source": [
    "card_df.rename(\n",
    "  columns={\n",
    "    'type': 'card_type',\n",
    "    'issued': 'card_issued'\n",
    "  },\n",
    "  inplace=True\n",
    ")\n",
    "\n",
    "df = pd.merge(\n",
    "  left=df, \n",
    "  right=card_df, \n",
    "  how='left',\n",
    "  on='disp_id'\n",
    ")"
   ]
  },
  {
   "cell_type": "markdown",
   "metadata": {},
   "source": [
    "Join loan with client"
   ]
  },
  {
   "cell_type": "code",
   "execution_count": null,
   "metadata": {},
   "outputs": [],
   "source": [
    "df = pd.merge(\n",
    "  left=df, \n",
    "  right=client_df[['client_id', 'gender', 'birth_date']], \n",
    "  how='left',\n",
    "  on='client_id'\n",
    ")"
   ]
  },
  {
   "cell_type": "code",
   "execution_count": null,
   "metadata": {},
   "outputs": [],
   "source": [
    "# Calculate age\n",
    "for col in ['loan_date', 'account_date', 'birth_date']:\n",
    "  df[col] = pd.to_datetime(df[col]) \n",
    "\n",
    "df['age'] = (df['loan_date'].dt.year - df['birth_date'].dt.year).astype(int)"
   ]
  },
  {
   "cell_type": "markdown",
   "metadata": {},
   "source": [
    "Join loan with district"
   ]
  },
  {
   "cell_type": "code",
   "execution_count": 95,
   "metadata": {},
   "outputs": [],
   "source": [
    "district_df.rename(\n",
    "  columns={\n",
    "    'A2': 'district_name',\n",
    "    'A3': 'region_name',\n",
    "    'A11': 'avg_salary'\n",
    "  },\n",
    "  inplace=True\n",
    ")\n",
    "\n",
    "df = pd.merge(\n",
    "  left=df, \n",
    "  right=district_df[['district_id', 'district_name', 'region_name', 'avg_salary']], \n",
    "  how='left',\n",
    "  on='district_id'\n",
    ")"
   ]
  },
  {
   "cell_type": "markdown",
   "metadata": {},
   "source": [
    "Join loan with transactions"
   ]
  },
  {
   "cell_type": "code",
   "execution_count": 107,
   "metadata": {},
   "outputs": [],
   "source": [
    "trans_df_latest = trans_df.rename(\n",
    "  columns={\n",
    "    'date': 'trans_date_latest',\n",
    "    'type': 'trans_type_latest',\n",
    "    'operation': 'trans_operation_latest',\n",
    "    'amount': 'trans_amount_latest',\n",
    "    'balance': 'trans_balance_latest',\n",
    "    'k_symbol': 'trans_k_symbol_latest',\n",
    "    'bank': 'trans_bank_latest'\n",
    "  },\n",
    "  inplace=False\n",
    ")\n",
    "trans_df_latest = trans_df_latest[[\n",
    "  'account_id',\n",
    "  'trans_date_latest',\n",
    "  'trans_type_latest',\n",
    "  'trans_operation_latest',\n",
    "  'trans_amount_latest',\n",
    "  'trans_balance_latest',\n",
    "  'trans_k_symbol_latest',\n",
    "  'trans_bank_latest'\n",
    "]]\n",
    "\n",
    "df['loan_date'] = pd.to_datetime(df['loan_date'])\n",
    "trans_df_latest['trans_date_latest'] = pd.to_datetime(trans_df_latest['trans_date_latest'])\n",
    "\n",
    "df.sort_values(by='loan_date', inplace=True)\n",
    "trans_df_latest.sort_values(by='trans_date_latest', inplace=True)\n",
    "\n",
    "df = pd.merge_asof(\n",
    "  left=df,\n",
    "  right=trans_df_latest,\n",
    "  left_on='loan_date',\n",
    "  right_on='trans_date_latest',\n",
    "  by='account_id'\n",
    ")"
   ]
  },
  {
   "cell_type": "code",
   "execution_count": 109,
   "metadata": {},
   "outputs": [
    {
     "data": {
      "text/html": [
       "<div>\n",
       "<style scoped>\n",
       "    .dataframe tbody tr th:only-of-type {\n",
       "        vertical-align: middle;\n",
       "    }\n",
       "\n",
       "    .dataframe tbody tr th {\n",
       "        vertical-align: top;\n",
       "    }\n",
       "\n",
       "    .dataframe thead th {\n",
       "        text-align: right;\n",
       "    }\n",
       "</style>\n",
       "<table border=\"1\" class=\"dataframe\">\n",
       "  <thead>\n",
       "    <tr style=\"text-align: right;\">\n",
       "      <th></th>\n",
       "      <th>loan_id</th>\n",
       "      <th>account_id</th>\n",
       "      <th>loan_date</th>\n",
       "      <th>amount</th>\n",
       "      <th>duration</th>\n",
       "      <th>payments</th>\n",
       "      <th>status</th>\n",
       "      <th>district_id</th>\n",
       "      <th>frequency</th>\n",
       "      <th>account_date</th>\n",
       "      <th>...</th>\n",
       "      <th>district_name</th>\n",
       "      <th>region_name</th>\n",
       "      <th>avg_salary</th>\n",
       "      <th>trans_date_latest</th>\n",
       "      <th>trans_type_latest</th>\n",
       "      <th>trans_operation_latest</th>\n",
       "      <th>trans_amount_latest</th>\n",
       "      <th>trans_balance_latest</th>\n",
       "      <th>trans_k_symbol_latest</th>\n",
       "      <th>trans_bank_latest</th>\n",
       "    </tr>\n",
       "  </thead>\n",
       "  <tbody>\n",
       "    <tr>\n",
       "      <th>0</th>\n",
       "      <td>5314</td>\n",
       "      <td>1787</td>\n",
       "      <td>1993-07-05</td>\n",
       "      <td>96396</td>\n",
       "      <td>12</td>\n",
       "      <td>8033.00</td>\n",
       "      <td>B</td>\n",
       "      <td>30</td>\n",
       "      <td>POPLATEK TYDNE</td>\n",
       "      <td>1993-03-22</td>\n",
       "      <td>...</td>\n",
       "      <td>Sokolov</td>\n",
       "      <td>west Bohemia</td>\n",
       "      <td>9650</td>\n",
       "      <td>1993-06-20</td>\n",
       "      <td>PRIJEM</td>\n",
       "      <td>VKLAD</td>\n",
       "      <td>3300</td>\n",
       "      <td>20100</td>\n",
       "      <td>&lt;NA&gt;</td>\n",
       "      <td>&lt;NA&gt;</td>\n",
       "    </tr>\n",
       "    <tr>\n",
       "      <th>1</th>\n",
       "      <td>5316</td>\n",
       "      <td>1801</td>\n",
       "      <td>1993-07-11</td>\n",
       "      <td>165960</td>\n",
       "      <td>36</td>\n",
       "      <td>4610.00</td>\n",
       "      <td>A</td>\n",
       "      <td>46</td>\n",
       "      <td>POPLATEK MESICNE</td>\n",
       "      <td>1993-02-13</td>\n",
       "      <td>...</td>\n",
       "      <td>Nachod</td>\n",
       "      <td>east Bohemia</td>\n",
       "      <td>8369</td>\n",
       "      <td>1993-07-09</td>\n",
       "      <td>VYDAJ</td>\n",
       "      <td>PREVOD NA UCET</td>\n",
       "      <td>3419</td>\n",
       "      <td>52209</td>\n",
       "      <td></td>\n",
       "      <td>YZ</td>\n",
       "    </tr>\n",
       "    <tr>\n",
       "      <th>2</th>\n",
       "      <td>6863</td>\n",
       "      <td>9188</td>\n",
       "      <td>1993-07-28</td>\n",
       "      <td>127080</td>\n",
       "      <td>60</td>\n",
       "      <td>2118.00</td>\n",
       "      <td>A</td>\n",
       "      <td>45</td>\n",
       "      <td>POPLATEK MESICNE</td>\n",
       "      <td>1993-02-08</td>\n",
       "      <td>...</td>\n",
       "      <td>Jicin</td>\n",
       "      <td>east Bohemia</td>\n",
       "      <td>8390</td>\n",
       "      <td>1993-07-21</td>\n",
       "      <td>VYDAJ</td>\n",
       "      <td>VYBER</td>\n",
       "      <td>12000</td>\n",
       "      <td>20273</td>\n",
       "      <td>&lt;NA&gt;</td>\n",
       "      <td>&lt;NA&gt;</td>\n",
       "    </tr>\n",
       "    <tr>\n",
       "      <th>3</th>\n",
       "      <td>5325</td>\n",
       "      <td>1843</td>\n",
       "      <td>1993-08-03</td>\n",
       "      <td>105804</td>\n",
       "      <td>36</td>\n",
       "      <td>2939.00</td>\n",
       "      <td>A</td>\n",
       "      <td>12</td>\n",
       "      <td>POPLATEK MESICNE</td>\n",
       "      <td>1993-01-30</td>\n",
       "      <td>...</td>\n",
       "      <td>Pribram</td>\n",
       "      <td>central Bohemia</td>\n",
       "      <td>8754</td>\n",
       "      <td>1993-07-31</td>\n",
       "      <td>PRIJEM</td>\n",
       "      <td>&lt;NA&gt;</td>\n",
       "      <td>178</td>\n",
       "      <td>34307</td>\n",
       "      <td>UROK</td>\n",
       "      <td>&lt;NA&gt;</td>\n",
       "    </tr>\n",
       "    <tr>\n",
       "      <th>4</th>\n",
       "      <td>7240</td>\n",
       "      <td>11013</td>\n",
       "      <td>1993-09-06</td>\n",
       "      <td>274740</td>\n",
       "      <td>60</td>\n",
       "      <td>4579.00</td>\n",
       "      <td>A</td>\n",
       "      <td>1</td>\n",
       "      <td>POPLATEK TYDNE</td>\n",
       "      <td>1993-02-14</td>\n",
       "      <td>...</td>\n",
       "      <td>Hl.m. Praha</td>\n",
       "      <td>Prague</td>\n",
       "      <td>12541</td>\n",
       "      <td>1993-08-31</td>\n",
       "      <td>PRIJEM</td>\n",
       "      <td>&lt;NA&gt;</td>\n",
       "      <td>183</td>\n",
       "      <td>41143</td>\n",
       "      <td>UROK</td>\n",
       "      <td>&lt;NA&gt;</td>\n",
       "    </tr>\n",
       "  </tbody>\n",
       "</table>\n",
       "<p>5 rows × 29 columns</p>\n",
       "</div>"
      ],
      "text/plain": [
       "   loan_id  account_id  loan_date  amount  duration payments status  \\\n",
       "0     5314        1787 1993-07-05   96396        12  8033.00      B   \n",
       "1     5316        1801 1993-07-11  165960        36  4610.00      A   \n",
       "2     6863        9188 1993-07-28  127080        60  2118.00      A   \n",
       "3     5325        1843 1993-08-03  105804        36  2939.00      A   \n",
       "4     7240       11013 1993-09-06  274740        60  4579.00      A   \n",
       "\n",
       "   district_id         frequency account_date  ...  district_name  \\\n",
       "0           30    POPLATEK TYDNE   1993-03-22  ...        Sokolov   \n",
       "1           46  POPLATEK MESICNE   1993-02-13  ...         Nachod   \n",
       "2           45  POPLATEK MESICNE   1993-02-08  ...          Jicin   \n",
       "3           12  POPLATEK MESICNE   1993-01-30  ...        Pribram   \n",
       "4            1    POPLATEK TYDNE   1993-02-14  ...    Hl.m. Praha   \n",
       "\n",
       "       region_name avg_salary  trans_date_latest trans_type_latest  \\\n",
       "0     west Bohemia       9650         1993-06-20            PRIJEM   \n",
       "1     east Bohemia       8369         1993-07-09             VYDAJ   \n",
       "2     east Bohemia       8390         1993-07-21             VYDAJ   \n",
       "3  central Bohemia       8754         1993-07-31            PRIJEM   \n",
       "4           Prague      12541         1993-08-31            PRIJEM   \n",
       "\n",
       "  trans_operation_latest trans_amount_latest trans_balance_latest  \\\n",
       "0                  VKLAD                3300                20100   \n",
       "1         PREVOD NA UCET                3419                52209   \n",
       "2                  VYBER               12000                20273   \n",
       "3                   <NA>                 178                34307   \n",
       "4                   <NA>                 183                41143   \n",
       "\n",
       "   trans_k_symbol_latest trans_bank_latest  \n",
       "0                   <NA>              <NA>  \n",
       "1                                       YZ  \n",
       "2                   <NA>              <NA>  \n",
       "3                   UROK              <NA>  \n",
       "4                   UROK              <NA>  \n",
       "\n",
       "[5 rows x 29 columns]"
      ]
     },
     "execution_count": 109,
     "metadata": {},
     "output_type": "execute_result"
    }
   ],
   "source": [
    "df.head()"
   ]
  },
  {
   "cell_type": "code",
   "execution_count": null,
   "metadata": {},
   "outputs": [],
   "source": []
  },
  {
   "cell_type": "code",
   "execution_count": 66,
   "metadata": {},
   "outputs": [],
   "source": [
    "card_agg_df = (\n",
    "  card_df\n",
    "  .groupby('disp_id')\n",
    "  .agg({\n",
    "    'disp_id': 'count'\n",
    "  })\n",
    ")"
   ]
  },
  {
   "cell_type": "code",
   "execution_count": 67,
   "metadata": {},
   "outputs": [
    {
     "data": {
      "text/html": [
       "<div>\n",
       "<style scoped>\n",
       "    .dataframe tbody tr th:only-of-type {\n",
       "        vertical-align: middle;\n",
       "    }\n",
       "\n",
       "    .dataframe tbody tr th {\n",
       "        vertical-align: top;\n",
       "    }\n",
       "\n",
       "    .dataframe thead th {\n",
       "        text-align: right;\n",
       "    }\n",
       "</style>\n",
       "<table border=\"1\" class=\"dataframe\">\n",
       "  <thead>\n",
       "    <tr style=\"text-align: right;\">\n",
       "      <th></th>\n",
       "      <th>disp_id</th>\n",
       "    </tr>\n",
       "    <tr>\n",
       "      <th>disp_id</th>\n",
       "      <th></th>\n",
       "    </tr>\n",
       "  </thead>\n",
       "  <tbody>\n",
       "  </tbody>\n",
       "</table>\n",
       "</div>"
      ],
      "text/plain": [
       "Empty DataFrame\n",
       "Columns: [disp_id]\n",
       "Index: []"
      ]
     },
     "execution_count": 67,
     "metadata": {},
     "output_type": "execute_result"
    }
   ],
   "source": [
    "card_agg_df.loc[card_agg_df['disp_id'] > 1]"
   ]
  },
  {
   "cell_type": "code",
   "execution_count": null,
   "metadata": {},
   "outputs": [],
   "source": []
  }
 ],
 "metadata": {
  "kernelspec": {
   "display_name": ".venv",
   "language": "python",
   "name": "python3"
  },
  "language_info": {
   "codemirror_mode": {
    "name": "ipython",
    "version": 3
   },
   "file_extension": ".py",
   "mimetype": "text/x-python",
   "name": "python",
   "nbconvert_exporter": "python",
   "pygments_lexer": "ipython3",
   "version": "3.10.0"
  }
 },
 "nbformat": 4,
 "nbformat_minor": 2
}
