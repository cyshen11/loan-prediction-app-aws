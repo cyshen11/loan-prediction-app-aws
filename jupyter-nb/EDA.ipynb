{
 "cells": [
  {
   "cell_type": "code",
   "execution_count": 3,
   "metadata": {},
   "outputs": [],
   "source": [
    "from sshtunnel import SSHTunnelForwarder \n",
    "from sqlalchemy.orm import sessionmaker\n",
    "from sqlalchemy import create_engine\n",
    "from sqlalchemy.sql import text\n",
    "from dotenv import load_dotenv\n",
    "import os\n",
    "import pandas as pd"
   ]
  },
  {
   "cell_type": "code",
   "execution_count": 4,
   "metadata": {},
   "outputs": [
    {
     "data": {
      "text/plain": [
       "True"
      ]
     },
     "execution_count": 4,
     "metadata": {},
     "output_type": "execute_result"
    }
   ],
   "source": [
    "load_dotenv()"
   ]
  },
  {
   "cell_type": "markdown",
   "metadata": {},
   "source": [
    "Need to install MariaDB Connector/C from CS Package Repository https://mariadb.com/docs/server/connect/programming-languages/c/install/"
   ]
  },
  {
   "cell_type": "markdown",
   "metadata": {},
   "source": [
    "Need to install MariaDB community server on the machine"
   ]
  },
  {
   "cell_type": "code",
   "execution_count": null,
   "metadata": {},
   "outputs": [
    {
     "name": "stdout",
     "output_type": "stream",
     "text": [
      "Server connected via SSH\n",
      "Database session created\n"
     ]
    }
   ],
   "source": [
    "with SSHTunnelForwarder(\n",
    "    (os.getenv(\"BASTION_SERVER_IP\"), 22), #Remote server IP and SSH port\n",
    "    ssh_username = os.getenv(\"SSH_USER_NAME\"),\n",
    "    ssh_pkey=os.getenv(\"SSH_PRIVATE_KEY_PATH\"),\n",
    "    remote_bind_address=(os.getenv(\"RDS_ENDPOINT\"), 3306)) as server: \n",
    "        \n",
    "    server.start() #start ssh sever\n",
    "    print('Server connected via SSH')\n",
    "    \n",
    "    #connect to PostgreSQL\n",
    "    local_port = str(server.local_bind_port)\n",
    "    database_name = 'financial'\n",
    "    engine = create_engine(\n",
    "        'mariadb+mariadbconnector://' \n",
    "        + os.getenv('DB_USERNAME') \n",
    "        + ':' \n",
    "        + os.getenv('DB_PASSWORD') \n",
    "        + '@127.0.0.1:'\n",
    "        + local_port \n",
    "        + '/' \n",
    "        + database_name\n",
    "    )\n",
    "\n",
    "    Session = sessionmaker(bind=engine)\n",
    "    session = Session()\n",
    "    \n",
    "    print('Database session created')\n",
    "    \n",
    "    #test data retrieval\n",
    "    test = session.execute(text(\"SELECT * FROM trans LIMIT 10\"))\n",
    "    df = pd.DataFrame.from_records(test)\n",
    "        \n",
    "    session.close()"
   ]
  },
  {
   "cell_type": "code",
   "execution_count": 13,
   "metadata": {},
   "outputs": [
    {
     "data": {
      "text/html": [
       "<div>\n",
       "<style scoped>\n",
       "    .dataframe tbody tr th:only-of-type {\n",
       "        vertical-align: middle;\n",
       "    }\n",
       "\n",
       "    .dataframe tbody tr th {\n",
       "        vertical-align: top;\n",
       "    }\n",
       "\n",
       "    .dataframe thead th {\n",
       "        text-align: right;\n",
       "    }\n",
       "</style>\n",
       "<table border=\"1\" class=\"dataframe\">\n",
       "  <thead>\n",
       "    <tr style=\"text-align: right;\">\n",
       "      <th></th>\n",
       "      <th>0</th>\n",
       "      <th>1</th>\n",
       "      <th>2</th>\n",
       "      <th>3</th>\n",
       "      <th>4</th>\n",
       "      <th>5</th>\n",
       "      <th>6</th>\n",
       "      <th>7</th>\n",
       "      <th>8</th>\n",
       "      <th>9</th>\n",
       "    </tr>\n",
       "  </thead>\n",
       "  <tbody>\n",
       "    <tr>\n",
       "      <th>0</th>\n",
       "      <td>1</td>\n",
       "      <td>1</td>\n",
       "      <td>1995-03-24</td>\n",
       "      <td>PRIJEM</td>\n",
       "      <td>VKLAD</td>\n",
       "      <td>1000</td>\n",
       "      <td>1000</td>\n",
       "      <td>None</td>\n",
       "      <td>None</td>\n",
       "      <td>NaN</td>\n",
       "    </tr>\n",
       "    <tr>\n",
       "      <th>1</th>\n",
       "      <td>5</td>\n",
       "      <td>1</td>\n",
       "      <td>1995-04-13</td>\n",
       "      <td>PRIJEM</td>\n",
       "      <td>PREVOD Z UCTU</td>\n",
       "      <td>3679</td>\n",
       "      <td>4679</td>\n",
       "      <td>None</td>\n",
       "      <td>AB</td>\n",
       "      <td>41403269.0</td>\n",
       "    </tr>\n",
       "    <tr>\n",
       "      <th>2</th>\n",
       "      <td>6</td>\n",
       "      <td>1</td>\n",
       "      <td>1995-05-13</td>\n",
       "      <td>PRIJEM</td>\n",
       "      <td>PREVOD Z UCTU</td>\n",
       "      <td>3679</td>\n",
       "      <td>20977</td>\n",
       "      <td>None</td>\n",
       "      <td>AB</td>\n",
       "      <td>41403269.0</td>\n",
       "    </tr>\n",
       "    <tr>\n",
       "      <th>3</th>\n",
       "      <td>7</td>\n",
       "      <td>1</td>\n",
       "      <td>1995-06-13</td>\n",
       "      <td>PRIJEM</td>\n",
       "      <td>PREVOD Z UCTU</td>\n",
       "      <td>3679</td>\n",
       "      <td>26835</td>\n",
       "      <td>None</td>\n",
       "      <td>AB</td>\n",
       "      <td>41403269.0</td>\n",
       "    </tr>\n",
       "    <tr>\n",
       "      <th>4</th>\n",
       "      <td>8</td>\n",
       "      <td>1</td>\n",
       "      <td>1995-07-13</td>\n",
       "      <td>PRIJEM</td>\n",
       "      <td>PREVOD Z UCTU</td>\n",
       "      <td>3679</td>\n",
       "      <td>30415</td>\n",
       "      <td>None</td>\n",
       "      <td>AB</td>\n",
       "      <td>41403269.0</td>\n",
       "    </tr>\n",
       "  </tbody>\n",
       "</table>\n",
       "</div>"
      ],
      "text/plain": [
       "   0  1           2       3              4     5      6     7     8  \\\n",
       "0  1  1  1995-03-24  PRIJEM          VKLAD  1000   1000  None  None   \n",
       "1  5  1  1995-04-13  PRIJEM  PREVOD Z UCTU  3679   4679  None    AB   \n",
       "2  6  1  1995-05-13  PRIJEM  PREVOD Z UCTU  3679  20977  None    AB   \n",
       "3  7  1  1995-06-13  PRIJEM  PREVOD Z UCTU  3679  26835  None    AB   \n",
       "4  8  1  1995-07-13  PRIJEM  PREVOD Z UCTU  3679  30415  None    AB   \n",
       "\n",
       "            9  \n",
       "0         NaN  \n",
       "1  41403269.0  \n",
       "2  41403269.0  \n",
       "3  41403269.0  \n",
       "4  41403269.0  "
      ]
     },
     "execution_count": 13,
     "metadata": {},
     "output_type": "execute_result"
    }
   ],
   "source": [
    "df.head()"
   ]
  }
 ],
 "metadata": {
  "kernelspec": {
   "display_name": ".venv",
   "language": "python",
   "name": "python3"
  },
  "language_info": {
   "codemirror_mode": {
    "name": "ipython",
    "version": 3
   },
   "file_extension": ".py",
   "mimetype": "text/x-python",
   "name": "python",
   "nbconvert_exporter": "python",
   "pygments_lexer": "ipython3",
   "version": "3.10.0"
  }
 },
 "nbformat": 4,
 "nbformat_minor": 2
}
