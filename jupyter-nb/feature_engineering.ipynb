{
 "cells": [
  {
   "cell_type": "code",
   "execution_count": 4,
   "metadata": {},
   "outputs": [],
   "source": [
    "import awswrangler as wr\n",
    "from dotenv import load_dotenv\n",
    "import os\n",
    "import boto3\n",
    "import pandas as pd"
   ]
  },
  {
   "cell_type": "code",
   "execution_count": 5,
   "metadata": {},
   "outputs": [
    {
     "data": {
      "text/plain": [
       "True"
      ]
     },
     "execution_count": 5,
     "metadata": {},
     "output_type": "execute_result"
    }
   ],
   "source": [
    "load_dotenv()"
   ]
  },
  {
   "cell_type": "markdown",
   "metadata": {},
   "source": [
    "### Configuration"
   ]
  },
  {
   "cell_type": "code",
   "execution_count": 176,
   "metadata": {},
   "outputs": [],
   "source": [
    "%%capture\n",
    "!aws sso login --profile $AWS_PROFILE"
   ]
  },
  {
   "cell_type": "code",
   "execution_count": 7,
   "metadata": {},
   "outputs": [],
   "source": [
    "my_session = boto3.setup_default_session(profile_name=os.environ.get(\"AWS_PROFILE\"))"
   ]
  },
  {
   "cell_type": "code",
   "execution_count": 8,
   "metadata": {},
   "outputs": [],
   "source": [
    "S3_BUCKET = os.environ.get(\"S3_BUCKET\")"
   ]
  },
  {
   "cell_type": "markdown",
   "metadata": {},
   "source": [
    "### Read Data"
   ]
  },
  {
   "cell_type": "markdown",
   "metadata": {},
   "source": [
    "Need to turn off Block public access (bucket settings)"
   ]
  },
  {
   "cell_type": "code",
   "execution_count": 9,
   "metadata": {},
   "outputs": [],
   "source": [
    "def read_data(table):\n",
    "  return wr.s3.read_parquet(\n",
    "    path=f\"s3://{S3_BUCKET}/financial-export-18042025/financial/financial.{table}/1/\", \n",
    "    dataset=True,\n",
    "    boto3_session=my_session\n",
    "  )"
   ]
  },
  {
   "cell_type": "code",
   "execution_count": 145,
   "metadata": {},
   "outputs": [],
   "source": [
    "account_df = read_data('account')\n",
    "card_df = read_data('card')\n",
    "client_df = read_data('client')\n",
    "disp_df = read_data('disp')\n",
    "district_df = read_data('district')\n",
    "loan_df = read_data('loan')\n",
    "order_df = read_data('order')\n",
    "trans_df = read_data('trans')"
   ]
  },
  {
   "cell_type": "markdown",
   "metadata": {},
   "source": [
    "### Create Features"
   ]
  },
  {
   "cell_type": "markdown",
   "metadata": {},
   "source": [
    "Join loan and account"
   ]
  },
  {
   "cell_type": "code",
   "execution_count": 146,
   "metadata": {},
   "outputs": [],
   "source": [
    "loan_df.rename(\n",
    "  columns={\n",
    "    'date': 'loan_date'\n",
    "  },\n",
    "  inplace=True\n",
    ")\n",
    "\n",
    "account_df.rename(\n",
    "  columns={\n",
    "    'date': 'account_date'\n",
    "  },\n",
    "  inplace=True\n",
    ")\n",
    "\n",
    "df = pd.merge(\n",
    "  left=loan_df, \n",
    "  right=account_df, \n",
    "  how='left',\n",
    "  on='account_id'\n",
    ")"
   ]
  },
  {
   "cell_type": "markdown",
   "metadata": {},
   "source": [
    "Join loan and disp"
   ]
  },
  {
   "cell_type": "code",
   "execution_count": 147,
   "metadata": {},
   "outputs": [],
   "source": [
    "disp_df.rename(\n",
    "  columns={\n",
    "    'type': 'disp_type'\n",
    "  },\n",
    "  inplace=True\n",
    ")\n",
    "\n",
    "df = pd.merge(\n",
    "  left=df, \n",
    "  right=disp_df, \n",
    "  how='left',\n",
    "  on='account_id'\n",
    ")"
   ]
  },
  {
   "cell_type": "markdown",
   "metadata": {},
   "source": [
    "Join loan with card"
   ]
  },
  {
   "cell_type": "code",
   "execution_count": 148,
   "metadata": {},
   "outputs": [],
   "source": [
    "card_df.rename(\n",
    "  columns={\n",
    "    'type': 'card_type',\n",
    "    'issued': 'card_issued'\n",
    "  },\n",
    "  inplace=True\n",
    ")\n",
    "\n",
    "df = pd.merge(\n",
    "  left=df, \n",
    "  right=card_df, \n",
    "  how='left',\n",
    "  on='disp_id'\n",
    ")"
   ]
  },
  {
   "cell_type": "markdown",
   "metadata": {},
   "source": [
    "Join loan with client"
   ]
  },
  {
   "cell_type": "code",
   "execution_count": 149,
   "metadata": {},
   "outputs": [],
   "source": [
    "df = pd.merge(\n",
    "  left=df, \n",
    "  right=client_df[['client_id', 'gender', 'birth_date']], \n",
    "  how='left',\n",
    "  on='client_id'\n",
    ")"
   ]
  },
  {
   "cell_type": "code",
   "execution_count": 150,
   "metadata": {},
   "outputs": [],
   "source": [
    "# Calculate age\n",
    "for col in ['loan_date', 'account_date', 'birth_date']:\n",
    "  df[col] = pd.to_datetime(df[col]) \n",
    "\n",
    "df['age'] = (df['loan_date'].dt.year - df['birth_date'].dt.year).astype(int)"
   ]
  },
  {
   "cell_type": "markdown",
   "metadata": {},
   "source": [
    "Join loan with district"
   ]
  },
  {
   "cell_type": "code",
   "execution_count": 151,
   "metadata": {},
   "outputs": [],
   "source": [
    "district_df.rename(\n",
    "  columns={\n",
    "    'A2': 'district_name',\n",
    "    'A3': 'region_name',\n",
    "    'A11': 'avg_salary'\n",
    "  },\n",
    "  inplace=True\n",
    ")\n",
    "\n",
    "df = pd.merge(\n",
    "  left=df, \n",
    "  right=district_df[['district_id', 'district_name', 'region_name', 'avg_salary']], \n",
    "  how='left',\n",
    "  on='district_id'\n",
    ")"
   ]
  },
  {
   "cell_type": "markdown",
   "metadata": {},
   "source": [
    "Join loan with transactions"
   ]
  },
  {
   "cell_type": "code",
   "execution_count": 152,
   "metadata": {},
   "outputs": [],
   "source": [
    "trans_df_latest = trans_df.rename(\n",
    "  columns={\n",
    "    'date': 'trans_date_latest',\n",
    "    'type': 'trans_type_latest',\n",
    "    'operation': 'trans_operation_latest',\n",
    "    'amount': 'trans_amount_latest',\n",
    "    'balance': 'trans_balance_latest',\n",
    "    'k_symbol': 'trans_k_symbol_latest',\n",
    "    'bank': 'trans_bank_latest'\n",
    "  },\n",
    "  inplace=False\n",
    ")\n",
    "trans_df_latest = trans_df_latest[[\n",
    "  'account_id',\n",
    "  'trans_date_latest',\n",
    "  'trans_type_latest',\n",
    "  'trans_operation_latest',\n",
    "  'trans_amount_latest',\n",
    "  'trans_balance_latest',\n",
    "  'trans_k_symbol_latest',\n",
    "  'trans_bank_latest'\n",
    "]]\n",
    "\n",
    "df['loan_date'] = pd.to_datetime(df['loan_date'])\n",
    "trans_df_latest['trans_date_latest'] = pd.to_datetime(trans_df_latest['trans_date_latest'])\n",
    "\n",
    "df.sort_values(by='loan_date', inplace=True)\n",
    "trans_df_latest.sort_values(by='trans_date_latest', inplace=True)\n",
    "\n",
    "df = pd.merge_asof(\n",
    "  left=df,\n",
    "  right=trans_df_latest,\n",
    "  left_on='loan_date',\n",
    "  right_on='trans_date_latest',\n",
    "  by='account_id',\n",
    "  direction='backward'\n",
    ")"
   ]
  },
  {
   "cell_type": "markdown",
   "metadata": {},
   "source": [
    "### Create Transactions Features"
   ]
  },
  {
   "cell_type": "code",
   "execution_count": 18,
   "metadata": {},
   "outputs": [],
   "source": [
    "# Create transaction features"
   ]
  },
  {
   "cell_type": "code",
   "execution_count": 157,
   "metadata": {},
   "outputs": [],
   "source": [
    "trans_df.rename(\n",
    "  columns={\n",
    "    'date': 'trans_date',\n",
    "    'type': 'trans_type',\n",
    "    'operation': 'trans_operation',\n",
    "    'amount': 'trans_amount',\n",
    "    'balance': 'trans_balance',\n",
    "    'k_symbol': 'trans_k_symbol',\n",
    "    'bank': 'trans_bank'\n",
    "  },\n",
    "  inplace=True\n",
    ")\n",
    "\n",
    "df_copy = pd.merge(\n",
    "  left=df,\n",
    "  right=trans_df,\n",
    "  on='account_id'\n",
    ")"
   ]
  },
  {
   "cell_type": "code",
   "execution_count": 158,
   "metadata": {},
   "outputs": [],
   "source": [
    "df_copy['loan_date'] = pd.to_datetime(df_copy['loan_date'])\n",
    "df_copy['trans_date'] = pd.to_datetime(df_copy['trans_date'])\n",
    "df_copy = df_copy.query('loan_date >= trans_date')\n",
    "df_copy['months_between_loan_and_trans_date'] = df_copy['loan_date'].dt.month - df_copy['trans_date'].dt.month"
   ]
  },
  {
   "cell_type": "code",
   "execution_count": 159,
   "metadata": {},
   "outputs": [],
   "source": [
    "def agg_trans(df, window_months):\n",
    "  return (\n",
    "    df\n",
    "    .query(f'months_between_loan_and_trans_date <= {window_months}')\n",
    "    .groupby(['loan_id', 'account_id'])\n",
    "    .agg({\n",
    "      'trans_date': 'size',\n",
    "      'trans_amount': 'mean',\n",
    "      'trans_balance': 'mean'\n",
    "    })\n",
    "    .rename(columns={\n",
    "      'trans_date': f'trans_count_p{window_months}m',\n",
    "      'trans_amount': f'avg_amount_p{window_months}m',\n",
    "      'trans_balance': f'avg_balance_p{window_months}m'\n",
    "    })\n",
    ")"
   ]
  },
  {
   "cell_type": "code",
   "execution_count": 160,
   "metadata": {},
   "outputs": [],
   "source": [
    "trans_stats_p3m = agg_trans(df_copy, 3)\n",
    "trans_stats_p6m = agg_trans(df_copy, 6)\n",
    "trans_stats_p12m = agg_trans(df_copy, 12)"
   ]
  },
  {
   "cell_type": "code",
   "execution_count": 164,
   "metadata": {},
   "outputs": [],
   "source": [
    "df_copy['trans_date_yyyymmdd'] = df_copy['trans_date'].dt.strftime('%Y%m%d')\n",
    "df_copy['trans_date_yyyyww'] = df_copy['trans_date'].dt.strftime('%Y%V')\n",
    "df_copy['trans_date_yyyymm'] = df_copy['trans_date'].dt.strftime('%Y%m')\n"
   ]
  },
  {
   "cell_type": "code",
   "execution_count": 165,
   "metadata": {},
   "outputs": [],
   "source": [
    "def agg_trans_by_level(df, level, level_col, window_months):\n",
    "  return (df\n",
    "  .query(f'months_between_loan_and_trans_date <= {window_months}')\n",
    "  .groupby(['loan_id', 'account_id', level_col])\n",
    "  .agg({\n",
    "    'trans_date': 'size',\n",
    "    'trans_amount': 'sum',\n",
    "    'trans_balance': 'sum'\n",
    "  })\n",
    "  .groupby(['loan_id', 'account_id'])\n",
    "  .agg({\n",
    "    'trans_date': 'median',\n",
    "    'trans_amount': 'mean',\n",
    "    'trans_balance': 'mean'\n",
    "  })\n",
    "  .rename(columns={\n",
    "    'trans_date': f'median_{level}_trans_count_p{window_months}m',\n",
    "    'trans_amount': f'avg_{level}_amount_p{window_months}m',\n",
    "    'trans_balance': f'avg_{level}_balance_p{window_months}m'\n",
    "  }))"
   ]
  },
  {
   "cell_type": "code",
   "execution_count": 166,
   "metadata": {},
   "outputs": [],
   "source": [
    "trans_daily_stats_p3m = agg_trans_by_level(\n",
    "  df=df_copy, \n",
    "  level='daily', \n",
    "  level_col='trans_date_yyyymmdd',\n",
    "  window_months=3\n",
    ")\n",
    "trans_weekly_stats_p3m = agg_trans_by_level(\n",
    "  df=df_copy, \n",
    "  level='weekly', \n",
    "  level_col='trans_date_yyyyww',\n",
    "  window_months=3\n",
    ")\n",
    "trans_monthly_stats_p3m = agg_trans_by_level(\n",
    "  df=df_copy, \n",
    "  level='monthly', \n",
    "  level_col='trans_date_yyyymm',\n",
    "  window_months=3\n",
    ")\n",
    "\n",
    "trans_daily_stats_p6m = agg_trans_by_level(\n",
    "  df=df_copy, \n",
    "  level='daily', \n",
    "  level_col='trans_date_yyyymmdd',\n",
    "  window_months=6\n",
    ")\n",
    "trans_weekly_stats_p6m = agg_trans_by_level(\n",
    "  df=df_copy, \n",
    "  level='weekly', \n",
    "  level_col='trans_date_yyyyww',\n",
    "  window_months=6\n",
    ")\n",
    "trans_monthly_stats_p6m = agg_trans_by_level(\n",
    "  df=df_copy, \n",
    "  level='monthly', \n",
    "  level_col='trans_date_yyyymm',\n",
    "  window_months=6\n",
    ")\n",
    "\n",
    "trans_daily_stats_p12m = agg_trans_by_level(\n",
    "  df=df_copy, \n",
    "  level='daily', \n",
    "  level_col='trans_date_yyyymmdd',\n",
    "  window_months=12\n",
    ")\n",
    "trans_weekly_stats_p12m = agg_trans_by_level(\n",
    "  df=df_copy, \n",
    "  level='weekly', \n",
    "  level_col='trans_date_yyyyww',\n",
    "  window_months=12\n",
    ")\n",
    "trans_monthly_stats_p12m = agg_trans_by_level(\n",
    "  df=df_copy, \n",
    "  level='monthly', \n",
    "  level_col='trans_date_yyyymm',\n",
    "  window_months=12\n",
    ")\n"
   ]
  },
  {
   "cell_type": "code",
   "execution_count": 167,
   "metadata": {},
   "outputs": [],
   "source": [
    "trans_type_stats = (\n",
    "  df_copy\n",
    "  .groupby(['loan_id', 'account_id', 'trans_type'])\n",
    "  .agg({\n",
    "    'trans_date': 'size'\n",
    "  })\n",
    "  .reset_index()\n",
    "  .pivot(\n",
    "    index=['loan_id', 'account_id'],\n",
    "    columns='trans_type',\n",
    "    values='trans_date'\n",
    "  )\n",
    "  .rename(columns={\n",
    "    'PRIJEM': 'trans_type_prijem_count',\n",
    "    'VYBER': 'trans_type_vyber_count',\n",
    "    'VYDAJ': 'trans_type_vydaj_count',\n",
    "  })\n",
    ")"
   ]
  },
  {
   "cell_type": "code",
   "execution_count": 168,
   "metadata": {},
   "outputs": [],
   "source": [
    "trans_operation_stats = (\n",
    "  df_copy\n",
    "  .groupby(['loan_id', 'account_id', 'trans_operation'])\n",
    "  .agg({\n",
    "    'trans_date': 'size'\n",
    "  })\n",
    "  .reset_index()\n",
    "  .pivot(\n",
    "    index=['loan_id', 'account_id'],\n",
    "    columns='trans_operation',\n",
    "    values='trans_date'\n",
    "  )\n",
    "  .rename(columns={\n",
    "    'PREVOD NA UCET': 'trans_operation_prevod_na_ucet_count',\n",
    "    'PREVOD Z UCTU': 'trans_operation_prevod_z_uctu_count',\n",
    "    'VKLAD': 'trans_operation_vklad_count',\n",
    "    'VYDAJ': 'trans_operation_vydaj_count',\n",
    "    'VYBER KARTOU': 'trans_operation_vyber_kartou',\n",
    "    'VYBER': 'trans_operation_vyber_count'\n",
    "  })\n",
    ")"
   ]
  },
  {
   "cell_type": "code",
   "execution_count": 169,
   "metadata": {},
   "outputs": [],
   "source": [
    "trans_stats_dfs = [\n",
    "  trans_stats_p3m,\n",
    "  trans_stats_p6m,\n",
    "  trans_stats_p12m,\n",
    "  trans_daily_stats_p3m,\n",
    "  trans_daily_stats_p6m,\n",
    "  trans_daily_stats_p12m,\n",
    "  trans_weekly_stats_p3m,\n",
    "  trans_weekly_stats_p6m,\n",
    "  trans_weekly_stats_p12m,\n",
    "  trans_monthly_stats_p3m,\n",
    "  trans_monthly_stats_p6m,\n",
    "  trans_monthly_stats_p12m,\n",
    "  trans_type_stats,\n",
    "  trans_operation_stats\n",
    "]\n",
    "\n",
    "for d in trans_stats_dfs:\n",
    "  df = pd.merge(\n",
    "    left=df,\n",
    "    right=d,\n",
    "    on=['loan_id', 'account_id']\n",
    "  )"
   ]
  },
  {
   "cell_type": "code",
   "execution_count": 170,
   "metadata": {},
   "outputs": [
    {
     "data": {
      "text/plain": [
       "Index(['loan_id', 'account_id', 'loan_date', 'amount', 'duration', 'payments',\n",
       "       'status', 'district_id', 'frequency', 'account_date', 'disp_id',\n",
       "       'client_id', 'disp_type', 'card_id', 'card_type', 'card_issued',\n",
       "       'gender', 'birth_date', 'age', 'district_name', 'region_name',\n",
       "       'avg_salary', 'trans_date_latest', 'trans_type_latest',\n",
       "       'trans_operation_latest', 'trans_amount_latest', 'trans_balance_latest',\n",
       "       'trans_k_symbol_latest', 'trans_bank_latest', 'trans_count_p3m',\n",
       "       'avg_amount_p3m', 'avg_balance_p3m', 'trans_count_p6m',\n",
       "       'avg_amount_p6m', 'avg_balance_p6m', 'trans_count_p12m',\n",
       "       'avg_amount_p12m', 'avg_balance_p12m', 'median_daily_trans_count_p3m',\n",
       "       'avg_daily_amount_p3m', 'avg_daily_balance_p3m',\n",
       "       'median_daily_trans_count_p6m', 'avg_daily_amount_p6m',\n",
       "       'avg_daily_balance_p6m', 'median_daily_trans_count_p12m',\n",
       "       'avg_daily_amount_p12m', 'avg_daily_balance_p12m',\n",
       "       'median_weekly_trans_count_p3m', 'avg_weekly_amount_p3m',\n",
       "       'avg_weekly_balance_p3m', 'median_weekly_trans_count_p6m',\n",
       "       'avg_weekly_amount_p6m', 'avg_weekly_balance_p6m',\n",
       "       'median_weekly_trans_count_p12m', 'avg_weekly_amount_p12m',\n",
       "       'avg_weekly_balance_p12m', 'median_monthly_trans_count_p3m',\n",
       "       'avg_monthly_amount_p3m', 'avg_monthly_balance_p3m',\n",
       "       'median_monthly_trans_count_p6m', 'avg_monthly_amount_p6m',\n",
       "       'avg_monthly_balance_p6m', 'median_monthly_trans_count_p12m',\n",
       "       'avg_monthly_amount_p12m', 'avg_monthly_balance_p12m',\n",
       "       'trans_type_prijem_count', 'trans_type_vyber_count',\n",
       "       'trans_type_vydaj_count', 'trans_operation_prevod_na_ucet_count',\n",
       "       'trans_operation_prevod_z_uctu_count', 'trans_operation_vklad_count',\n",
       "       'trans_operation_vyber_count', 'trans_operation_vyber_kartou'],\n",
       "      dtype='object')"
      ]
     },
     "execution_count": 170,
     "metadata": {},
     "output_type": "execute_result"
    }
   ],
   "source": [
    "df.columns"
   ]
  },
  {
   "cell_type": "code",
   "execution_count": 172,
   "metadata": {},
   "outputs": [],
   "source": [
    "df.drop(columns=[\n",
    "  'loan_date',\n",
    "  'district_id',\n",
    "  'account_date',\n",
    "  'disp_id',\n",
    "  'client_id',\n",
    "  'card_id',\n",
    "  'card_issued',\n",
    "  'birth_date'\n",
    "],\n",
    "inplace=True)"
   ]
  },
  {
   "cell_type": "code",
   "execution_count": 173,
   "metadata": {},
   "outputs": [
    {
     "data": {
      "text/plain": [
       "Index(['loan_id', 'account_id', 'amount', 'duration', 'payments', 'status',\n",
       "       'frequency', 'disp_type', 'card_type', 'gender', 'age', 'district_name',\n",
       "       'region_name', 'avg_salary', 'trans_date_latest', 'trans_type_latest',\n",
       "       'trans_operation_latest', 'trans_amount_latest', 'trans_balance_latest',\n",
       "       'trans_k_symbol_latest', 'trans_bank_latest', 'trans_count_p3m',\n",
       "       'avg_amount_p3m', 'avg_balance_p3m', 'trans_count_p6m',\n",
       "       'avg_amount_p6m', 'avg_balance_p6m', 'trans_count_p12m',\n",
       "       'avg_amount_p12m', 'avg_balance_p12m', 'median_daily_trans_count_p3m',\n",
       "       'avg_daily_amount_p3m', 'avg_daily_balance_p3m',\n",
       "       'median_daily_trans_count_p6m', 'avg_daily_amount_p6m',\n",
       "       'avg_daily_balance_p6m', 'median_daily_trans_count_p12m',\n",
       "       'avg_daily_amount_p12m', 'avg_daily_balance_p12m',\n",
       "       'median_weekly_trans_count_p3m', 'avg_weekly_amount_p3m',\n",
       "       'avg_weekly_balance_p3m', 'median_weekly_trans_count_p6m',\n",
       "       'avg_weekly_amount_p6m', 'avg_weekly_balance_p6m',\n",
       "       'median_weekly_trans_count_p12m', 'avg_weekly_amount_p12m',\n",
       "       'avg_weekly_balance_p12m', 'median_monthly_trans_count_p3m',\n",
       "       'avg_monthly_amount_p3m', 'avg_monthly_balance_p3m',\n",
       "       'median_monthly_trans_count_p6m', 'avg_monthly_amount_p6m',\n",
       "       'avg_monthly_balance_p6m', 'median_monthly_trans_count_p12m',\n",
       "       'avg_monthly_amount_p12m', 'avg_monthly_balance_p12m',\n",
       "       'trans_type_prijem_count', 'trans_type_vyber_count',\n",
       "       'trans_type_vydaj_count', 'trans_operation_prevod_na_ucet_count',\n",
       "       'trans_operation_prevod_z_uctu_count', 'trans_operation_vklad_count',\n",
       "       'trans_operation_vyber_count', 'trans_operation_vyber_kartou'],\n",
       "      dtype='object')"
      ]
     },
     "execution_count": 173,
     "metadata": {},
     "output_type": "execute_result"
    }
   ],
   "source": [
    "df.columns"
   ]
  },
  {
   "cell_type": "code",
   "execution_count": 174,
   "metadata": {},
   "outputs": [
    {
     "data": {
      "text/html": [
       "<div>\n",
       "<style scoped>\n",
       "    .dataframe tbody tr th:only-of-type {\n",
       "        vertical-align: middle;\n",
       "    }\n",
       "\n",
       "    .dataframe tbody tr th {\n",
       "        vertical-align: top;\n",
       "    }\n",
       "\n",
       "    .dataframe thead th {\n",
       "        text-align: right;\n",
       "    }\n",
       "</style>\n",
       "<table border=\"1\" class=\"dataframe\">\n",
       "  <thead>\n",
       "    <tr style=\"text-align: right;\">\n",
       "      <th></th>\n",
       "      <th>loan_id</th>\n",
       "      <th>account_id</th>\n",
       "      <th>amount</th>\n",
       "      <th>duration</th>\n",
       "      <th>payments</th>\n",
       "      <th>status</th>\n",
       "      <th>frequency</th>\n",
       "      <th>disp_type</th>\n",
       "      <th>card_type</th>\n",
       "      <th>gender</th>\n",
       "      <th>...</th>\n",
       "      <th>avg_monthly_amount_p12m</th>\n",
       "      <th>avg_monthly_balance_p12m</th>\n",
       "      <th>trans_type_prijem_count</th>\n",
       "      <th>trans_type_vyber_count</th>\n",
       "      <th>trans_type_vydaj_count</th>\n",
       "      <th>trans_operation_prevod_na_ucet_count</th>\n",
       "      <th>trans_operation_prevod_z_uctu_count</th>\n",
       "      <th>trans_operation_vklad_count</th>\n",
       "      <th>trans_operation_vyber_count</th>\n",
       "      <th>trans_operation_vyber_kartou</th>\n",
       "    </tr>\n",
       "  </thead>\n",
       "  <tbody>\n",
       "    <tr>\n",
       "      <th>0</th>\n",
       "      <td>5314</td>\n",
       "      <td>1787</td>\n",
       "      <td>96396</td>\n",
       "      <td>12</td>\n",
       "      <td>8033.00</td>\n",
       "      <td>B</td>\n",
       "      <td>POPLATEK TYDNE</td>\n",
       "      <td>OWNER</td>\n",
       "      <td>&lt;NA&gt;</td>\n",
       "      <td>F</td>\n",
       "      <td>...</td>\n",
       "      <td>5025.0</td>\n",
       "      <td>12250.0</td>\n",
       "      <td>4.0</td>\n",
       "      <td>NaN</td>\n",
       "      <td>NaN</td>\n",
       "      <td>NaN</td>\n",
       "      <td>NaN</td>\n",
       "      <td>4.0</td>\n",
       "      <td>NaN</td>\n",
       "      <td>NaN</td>\n",
       "    </tr>\n",
       "    <tr>\n",
       "      <th>1</th>\n",
       "      <td>5316</td>\n",
       "      <td>1801</td>\n",
       "      <td>165960</td>\n",
       "      <td>36</td>\n",
       "      <td>4610.00</td>\n",
       "      <td>A</td>\n",
       "      <td>POPLATEK MESICNE</td>\n",
       "      <td>OWNER</td>\n",
       "      <td>&lt;NA&gt;</td>\n",
       "      <td>M</td>\n",
       "      <td>...</td>\n",
       "      <td>67930.0</td>\n",
       "      <td>321184.166667</td>\n",
       "      <td>17.0</td>\n",
       "      <td>2.0</td>\n",
       "      <td>18.0</td>\n",
       "      <td>8.0</td>\n",
       "      <td>NaN</td>\n",
       "      <td>12.0</td>\n",
       "      <td>12.0</td>\n",
       "      <td>NaN</td>\n",
       "    </tr>\n",
       "    <tr>\n",
       "      <th>2</th>\n",
       "      <td>6863</td>\n",
       "      <td>9188</td>\n",
       "      <td>127080</td>\n",
       "      <td>60</td>\n",
       "      <td>2118.00</td>\n",
       "      <td>A</td>\n",
       "      <td>POPLATEK MESICNE</td>\n",
       "      <td>OWNER</td>\n",
       "      <td>&lt;NA&gt;</td>\n",
       "      <td>M</td>\n",
       "      <td>...</td>\n",
       "      <td>21669.833333</td>\n",
       "      <td>120244.166667</td>\n",
       "      <td>15.0</td>\n",
       "      <td>NaN</td>\n",
       "      <td>9.0</td>\n",
       "      <td>3.0</td>\n",
       "      <td>5.0</td>\n",
       "      <td>2.0</td>\n",
       "      <td>6.0</td>\n",
       "      <td>NaN</td>\n",
       "    </tr>\n",
       "    <tr>\n",
       "      <th>3</th>\n",
       "      <td>5325</td>\n",
       "      <td>1843</td>\n",
       "      <td>105804</td>\n",
       "      <td>36</td>\n",
       "      <td>2939.00</td>\n",
       "      <td>A</td>\n",
       "      <td>POPLATEK MESICNE</td>\n",
       "      <td>OWNER</td>\n",
       "      <td>classic</td>\n",
       "      <td>F</td>\n",
       "      <td>...</td>\n",
       "      <td>29475.428571</td>\n",
       "      <td>147491.571429</td>\n",
       "      <td>13.0</td>\n",
       "      <td>NaN</td>\n",
       "      <td>12.0</td>\n",
       "      <td>2.0</td>\n",
       "      <td>6.0</td>\n",
       "      <td>2.0</td>\n",
       "      <td>10.0</td>\n",
       "      <td>NaN</td>\n",
       "    </tr>\n",
       "    <tr>\n",
       "      <th>4</th>\n",
       "      <td>7240</td>\n",
       "      <td>11013</td>\n",
       "      <td>274740</td>\n",
       "      <td>60</td>\n",
       "      <td>4579.00</td>\n",
       "      <td>A</td>\n",
       "      <td>POPLATEK TYDNE</td>\n",
       "      <td>OWNER</td>\n",
       "      <td>junior</td>\n",
       "      <td>M</td>\n",
       "      <td>...</td>\n",
       "      <td>73077.285714</td>\n",
       "      <td>220583.0</td>\n",
       "      <td>13.0</td>\n",
       "      <td>NaN</td>\n",
       "      <td>14.0</td>\n",
       "      <td>3.0</td>\n",
       "      <td>6.0</td>\n",
       "      <td>1.0</td>\n",
       "      <td>11.0</td>\n",
       "      <td>NaN</td>\n",
       "    </tr>\n",
       "  </tbody>\n",
       "</table>\n",
       "<p>5 rows × 65 columns</p>\n",
       "</div>"
      ],
      "text/plain": [
       "   loan_id  account_id  amount  duration payments status         frequency  \\\n",
       "0     5314        1787   96396        12  8033.00      B    POPLATEK TYDNE   \n",
       "1     5316        1801  165960        36  4610.00      A  POPLATEK MESICNE   \n",
       "2     6863        9188  127080        60  2118.00      A  POPLATEK MESICNE   \n",
       "3     5325        1843  105804        36  2939.00      A  POPLATEK MESICNE   \n",
       "4     7240       11013  274740        60  4579.00      A    POPLATEK TYDNE   \n",
       "\n",
       "  disp_type card_type gender  ...  avg_monthly_amount_p12m  \\\n",
       "0     OWNER      <NA>      F  ...                   5025.0   \n",
       "1     OWNER      <NA>      M  ...                  67930.0   \n",
       "2     OWNER      <NA>      M  ...             21669.833333   \n",
       "3     OWNER   classic      F  ...             29475.428571   \n",
       "4     OWNER    junior      M  ...             73077.285714   \n",
       "\n",
       "  avg_monthly_balance_p12m trans_type_prijem_count  trans_type_vyber_count  \\\n",
       "0                  12250.0                     4.0                     NaN   \n",
       "1            321184.166667                    17.0                     2.0   \n",
       "2            120244.166667                    15.0                     NaN   \n",
       "3            147491.571429                    13.0                     NaN   \n",
       "4                 220583.0                    13.0                     NaN   \n",
       "\n",
       "  trans_type_vydaj_count trans_operation_prevod_na_ucet_count  \\\n",
       "0                    NaN                                  NaN   \n",
       "1                   18.0                                  8.0   \n",
       "2                    9.0                                  3.0   \n",
       "3                   12.0                                  2.0   \n",
       "4                   14.0                                  3.0   \n",
       "\n",
       "  trans_operation_prevod_z_uctu_count  trans_operation_vklad_count  \\\n",
       "0                                 NaN                          4.0   \n",
       "1                                 NaN                         12.0   \n",
       "2                                 5.0                          2.0   \n",
       "3                                 6.0                          2.0   \n",
       "4                                 6.0                          1.0   \n",
       "\n",
       "   trans_operation_vyber_count trans_operation_vyber_kartou  \n",
       "0                          NaN                          NaN  \n",
       "1                         12.0                          NaN  \n",
       "2                          6.0                          NaN  \n",
       "3                         10.0                          NaN  \n",
       "4                         11.0                          NaN  \n",
       "\n",
       "[5 rows x 65 columns]"
      ]
     },
     "execution_count": 174,
     "metadata": {},
     "output_type": "execute_result"
    }
   ],
   "source": [
    "df.head()"
   ]
  },
  {
   "cell_type": "code",
   "execution_count": 177,
   "metadata": {},
   "outputs": [],
   "source": [
    "df.to_csv('../datasets/loan_with_features.csv', index=False)"
   ]
  }
 ],
 "metadata": {
  "kernelspec": {
   "display_name": ".venv",
   "language": "python",
   "name": "python3"
  },
  "language_info": {
   "codemirror_mode": {
    "name": "ipython",
    "version": 3
   },
   "file_extension": ".py",
   "mimetype": "text/x-python",
   "name": "python",
   "nbconvert_exporter": "python",
   "pygments_lexer": "ipython3",
   "version": "3.10.0"
  }
 },
 "nbformat": 4,
 "nbformat_minor": 2
}
