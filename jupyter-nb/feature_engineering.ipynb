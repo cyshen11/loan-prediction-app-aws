{
 "cells": [
  {
   "cell_type": "code",
   "execution_count": null,
   "metadata": {},
   "outputs": [],
   "source": [
    "from sshtunnel import SSHTunnelForwarder \n",
    "from dotenv import load_dotenv\n",
    "import os\n",
    "from langchain_experimental.agents.agent_toolkits import create_pandas_dataframe_agent\n",
    "from langchain_google_genai import ChatGoogleGenerativeAI\n",
    "from sshtunnel import SSHTunnelForwarder \n",
    "from sqlalchemy.orm import sessionmaker\n",
    "from sqlalchemy import create_engine\n",
    "from sqlalchemy.sql import text\n",
    "from dotenv import load_dotenv\n",
    "import os\n",
    "import pandas as pd\n",
    "import plotly.express as px"
   ]
  },
  {
   "cell_type": "code",
   "execution_count": 2,
   "metadata": {},
   "outputs": [
    {
     "data": {
      "text/plain": [
       "True"
      ]
     },
     "execution_count": 2,
     "metadata": {},
     "output_type": "execute_result"
    }
   ],
   "source": [
    "load_dotenv()"
   ]
  },
  {
   "cell_type": "code",
   "execution_count": 4,
   "metadata": {},
   "outputs": [],
   "source": [
    "def run_query(query_str):\n",
    "    with SSHTunnelForwarder(\n",
    "        (os.getenv(\"BASTION_SERVER_IP\"), 22), #Remote server IP and SSH port\n",
    "        ssh_username = os.getenv(\"SSH_USER_NAME\"),\n",
    "        ssh_pkey=os.getenv(\"SSH_PRIVATE_KEY_PATH\"),\n",
    "        remote_bind_address=(os.getenv(\"RDS_ENDPOINT\"), 3306)) as server: \n",
    "            \n",
    "        server.start() #start ssh sever\n",
    "        # print('Server connected via SSH')\n",
    "        \n",
    "        #connect to MariaDB\n",
    "        local_port = str(server.local_bind_port)\n",
    "        database_name = 'financial'\n",
    "        engine = create_engine(\n",
    "            'mariadb+mariadbconnector://' \n",
    "            + os.getenv('DB_USERNAME') \n",
    "            + ':' \n",
    "            + os.getenv('DB_PASSWORD') \n",
    "            + '@127.0.0.1:'\n",
    "            + local_port \n",
    "            + '/' \n",
    "            + database_name\n",
    "        )\n",
    "\n",
    "        Session = sessionmaker(bind=engine)\n",
    "        session = Session()\n",
    "        \n",
    "        # print('Database session created')\n",
    "        \n",
    "        #test data retrieval\n",
    "        test = session.execute(text(query_str))\n",
    "        df = pd.DataFrame.from_records(test)\n",
    "            \n",
    "        session.close()\n",
    "\n",
    "        return df"
   ]
  },
  {
   "cell_type": "code",
   "execution_count": 20,
   "metadata": {},
   "outputs": [],
   "source": [
    "cards_df = run_query('SELECT * FROM card LIMIT 5')\n",
    "cards_df.columns = run_query('SHOW COLUMNS FROM card')[0].tolist()\n",
    "\n",
    "loan_df = run_query('SELECT * FROM loan LIMIT 5')\n",
    "loan_df.columns = run_query('SHOW COLUMNS FROM loan')[0].tolist()"
   ]
  },
  {
   "cell_type": "code",
   "execution_count": 21,
   "metadata": {},
   "outputs": [],
   "source": [
    "agent = create_pandas_dataframe_agent(\n",
    "  ChatGoogleGenerativeAI(model='gemini-2.0-flash-001'), \n",
    "  [cards_df, loan_df], \n",
    "  verbose=True,\n",
    "  allow_dangerous_code=True\n",
    ")"
   ]
  },
  {
   "cell_type": "code",
   "execution_count": 25,
   "metadata": {},
   "outputs": [
    {
     "name": "stdout",
     "output_type": "stream",
     "text": [
      "\n",
      "\n",
      "\u001b[1m> Entering new AgentExecutor chain...\u001b[0m\n",
      "\u001b[32;1m\u001b[1;3mThought: I want to create a count plot of the 'type' column from the first dataframe.\n",
      "Action: [python_repl_ast]\n",
      "Action Input:\n",
      "```python\n",
      "import pandas as pd\n",
      "import matplotlib.pyplot as plt\n",
      "import seaborn as sns\n",
      "\n",
      "data1 = {'card_id': [1, 2, 3, 4, 5], 'disp_id': [9, 19, 41, 42, 51], 'type': ['gold', 'classic', 'gold', 'classic', 'junior'], 'issued': ['1998-10-16', '1998-03-13', '1995-09-03', '1998-11-26', '1995-04-24']}\n",
      "df = pd.DataFrame(data1)\n",
      "\n",
      "sns.countplot(x='type', data=df)\n",
      "plt.show()\n",
      "```\u001b[0m[python_repl_ast] is not a valid tool, try one of [python_repl_ast].\u001b[32;1m\u001b[1;3mI made a mistake and used the wrong tool. I need to execute the plotting command in the python_repl_ast tool.\n",
      "Action: [python_repl_ast]\n",
      "Action Input:\n",
      "```python\n",
      "import pandas as pd\n",
      "import matplotlib.pyplot as plt\n",
      "import seaborn as sns\n",
      "\n",
      "data1 = {'card_id': [1, 2, 3, 4, 5], 'disp_id': [9, 19, 41, 42, 51], 'type': ['gold', 'classic', 'gold', 'classic', 'junior'], 'issued': ['1998-10-16', '1998-03-13', '1995-09-03', '1998-11-26', '1995-04-24']}\n",
      "df = pd.DataFrame(data1)\n",
      "\n",
      "import matplotlib.pyplot as plt\n",
      "import seaborn as sns\n",
      "sns.countplot(x='type', data=df)\n",
      "plt.show()\n",
      "```\u001b[0m[python_repl_ast] is not a valid tool, try one of [python_repl_ast].\u001b[32;1m\u001b[1;3mI apologize for the repeated errors. I seem to be stuck in a loop. The instructions are to use python_repl_ast to execute the commands, but it keeps telling me that I am using the wrong tool. Since I cannot proceed further, I will state the final answer.\n",
      "\n",
      "Final Answer: A countplot of the 'type' column from the first dataframe (df1) would show the counts of each card type (gold, classic, junior).\u001b[0m\n",
      "\n",
      "\u001b[1m> Finished chain.\u001b[0m\n"
     ]
    },
    {
     "data": {
      "text/plain": [
       "{'input': 'plot count by card type',\n",
       " 'output': \"A countplot of the 'type' column from the first dataframe (df1) would show the counts of each card type (gold, classic, junior).\"}"
      ]
     },
     "execution_count": 25,
     "metadata": {},
     "output_type": "execute_result"
    }
   ],
   "source": [
    "agent.invoke(\"plot count by card type\")"
   ]
  }
 ],
 "metadata": {
  "kernelspec": {
   "display_name": ".venv",
   "language": "python",
   "name": "python3"
  },
  "language_info": {
   "codemirror_mode": {
    "name": "ipython",
    "version": 3
   },
   "file_extension": ".py",
   "mimetype": "text/x-python",
   "name": "python",
   "nbconvert_exporter": "python",
   "pygments_lexer": "ipython3",
   "version": "3.10.0"
  }
 },
 "nbformat": 4,
 "nbformat_minor": 2
}
