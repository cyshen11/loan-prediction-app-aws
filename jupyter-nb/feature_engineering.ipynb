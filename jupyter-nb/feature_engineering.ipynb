{
 "cells": [
  {
   "cell_type": "code",
   "execution_count": 61,
   "metadata": {},
   "outputs": [],
   "source": [
    "import awswrangler as wr\n",
    "from dotenv import load_dotenv\n",
    "import os\n",
    "import boto3\n",
    "import pandas as pd"
   ]
  },
  {
   "cell_type": "code",
   "execution_count": 62,
   "metadata": {},
   "outputs": [
    {
     "data": {
      "text/plain": [
       "True"
      ]
     },
     "execution_count": 62,
     "metadata": {},
     "output_type": "execute_result"
    }
   ],
   "source": [
    "load_dotenv()"
   ]
  },
  {
   "cell_type": "markdown",
   "metadata": {},
   "source": [
    "### Configuration"
   ]
  },
  {
   "cell_type": "code",
   "execution_count": 63,
   "metadata": {},
   "outputs": [],
   "source": [
    "%%capture\n",
    "!aws sso login --profile $AWS_PROFILE"
   ]
  },
  {
   "cell_type": "code",
   "execution_count": 64,
   "metadata": {},
   "outputs": [],
   "source": [
    "my_session = boto3.setup_default_session(profile_name=os.environ.get(\"AWS_PROFILE\"))"
   ]
  },
  {
   "cell_type": "code",
   "execution_count": 65,
   "metadata": {},
   "outputs": [],
   "source": [
    "S3_BUCKET = os.environ.get(\"S3_BUCKET\")"
   ]
  },
  {
   "cell_type": "markdown",
   "metadata": {},
   "source": [
    "### Read Data"
   ]
  },
  {
   "cell_type": "markdown",
   "metadata": {},
   "source": [
    "Need to turn off Block public access (bucket settings)"
   ]
  },
  {
   "cell_type": "code",
   "execution_count": 66,
   "metadata": {},
   "outputs": [],
   "source": [
    "def read_data(table):\n",
    "  return wr.s3.read_parquet(\n",
    "    path=f\"s3://{S3_BUCKET}/financial-export-18042025/financial/financial.{table}/1/\", \n",
    "    dataset=True,\n",
    "    boto3_session=my_session\n",
    "  )"
   ]
  },
  {
   "cell_type": "code",
   "execution_count": 142,
   "metadata": {},
   "outputs": [],
   "source": [
    "account_df = read_data('account')\n",
    "card_df = read_data('card')\n",
    "client_df = read_data('client')\n",
    "disp_df = read_data('disp')\n",
    "district_df = read_data('district')\n",
    "loan_df = read_data('loan')\n",
    "order_df = read_data('order')\n",
    "trans_df = read_data('trans')"
   ]
  },
  {
   "cell_type": "code",
   "execution_count": 143,
   "metadata": {},
   "outputs": [],
   "source": [
    "# Filter finished loans\n",
    "loan_df = loan_df.query('status == \"A\" or status == \"B\"')"
   ]
  },
  {
   "cell_type": "markdown",
   "metadata": {},
   "source": [
    "### Create Features"
   ]
  },
  {
   "cell_type": "markdown",
   "metadata": {},
   "source": [
    "Credits to https://medium.com/data-science/loan-default-prediction-an-end-to-end-ml-project-with-real-bank-data-part-1-1405f7aecb9e#ed0c"
   ]
  },
  {
   "cell_type": "markdown",
   "metadata": {},
   "source": [
    "Join loan and account"
   ]
  },
  {
   "cell_type": "code",
   "execution_count": 144,
   "metadata": {},
   "outputs": [],
   "source": [
    "loan_df.rename(\n",
    "  columns={\n",
    "    'date': 'loan_date',\n",
    "    'amount': 'loan_amount',\n",
    "    'duration': 'loan_duration',\n",
    "    'payments': 'loan_payments',\n",
    "    'status': 'loan_status'\n",
    "  },\n",
    "  inplace=True\n",
    ")\n",
    "\n",
    "account_df.rename(\n",
    "  columns={\n",
    "    'date': 'account_date',\n",
    "    'frequency': 'account_frequency'\n",
    "  },\n",
    "  inplace=True\n",
    ")\n",
    "\n",
    "df = pd.merge(\n",
    "  left=loan_df, \n",
    "  right=account_df, \n",
    "  how='left',\n",
    "  on='account_id'\n",
    ")"
   ]
  },
  {
   "cell_type": "code",
   "execution_count": 145,
   "metadata": {},
   "outputs": [],
   "source": [
    "df['loan_date'] = pd.to_datetime(df['loan_date'])\n",
    "df['account_date'] = pd.to_datetime(df['account_date'])\n",
    "df['days_between'] = df['loan_date'] - df['account_date']"
   ]
  },
  {
   "cell_type": "markdown",
   "metadata": {},
   "source": [
    "Join loan and disp"
   ]
  },
  {
   "cell_type": "code",
   "execution_count": 146,
   "metadata": {},
   "outputs": [],
   "source": [
    "disp_df.rename(\n",
    "  columns={\n",
    "    'type': 'disp_type'\n",
    "  },\n",
    "  inplace=True\n",
    ")\n",
    "\n",
    "df = pd.merge(\n",
    "  left=df, \n",
    "  right=disp_df, \n",
    "  how='left',\n",
    "  on='account_id'\n",
    ")"
   ]
  },
  {
   "cell_type": "markdown",
   "metadata": {},
   "source": [
    "Join loan with card"
   ]
  },
  {
   "cell_type": "code",
   "execution_count": 147,
   "metadata": {},
   "outputs": [],
   "source": [
    "card_df.rename(\n",
    "  columns={\n",
    "    'type': 'card_type',\n",
    "    'issued': 'card_issued'\n",
    "  },\n",
    "  inplace=True\n",
    ")\n",
    "\n",
    "df = pd.merge(\n",
    "  left=df, \n",
    "  right=card_df, \n",
    "  how='left',\n",
    "  on='disp_id'\n",
    ")"
   ]
  },
  {
   "cell_type": "markdown",
   "metadata": {},
   "source": [
    "Join loan with client"
   ]
  },
  {
   "cell_type": "code",
   "execution_count": 148,
   "metadata": {},
   "outputs": [],
   "source": [
    "df = pd.merge(\n",
    "  left=df, \n",
    "  right=client_df[['client_id', 'gender', 'birth_date']], \n",
    "  how='left',\n",
    "  on='client_id'\n",
    ")"
   ]
  },
  {
   "cell_type": "code",
   "execution_count": 149,
   "metadata": {},
   "outputs": [],
   "source": [
    "# Calculate age\n",
    "for col in ['loan_date', 'account_date', 'birth_date']:\n",
    "  df[col] = pd.to_datetime(df[col]) \n",
    "\n",
    "df['age'] = (df['loan_date'].dt.year - df['birth_date'].dt.year).astype(int)"
   ]
  },
  {
   "cell_type": "markdown",
   "metadata": {},
   "source": [
    "Join loan with district"
   ]
  },
  {
   "cell_type": "code",
   "execution_count": 150,
   "metadata": {},
   "outputs": [],
   "source": [
    "district_df.rename(\n",
    "  columns={\n",
    "    'A2': 'district_name',\n",
    "    'A3': 'region_name',\n",
    "    'A11': 'avg_salary'\n",
    "  },\n",
    "  inplace=True\n",
    ")\n",
    "\n",
    "df = pd.merge(\n",
    "  left=df, \n",
    "  right=district_df[['district_id', 'district_name', 'region_name', 'avg_salary']], \n",
    "  how='left',\n",
    "  on='district_id'\n",
    ")"
   ]
  },
  {
   "cell_type": "markdown",
   "metadata": {},
   "source": [
    "Join loan with transactions"
   ]
  },
  {
   "cell_type": "code",
   "execution_count": 151,
   "metadata": {},
   "outputs": [],
   "source": [
    "trans_df.rename(\n",
    "  columns={\n",
    "    'date': 'trans_date',\n",
    "    'type': 'trans_type',\n",
    "    'operation': 'trans_operation',\n",
    "    'amount': 'trans_amount',\n",
    "    'balance': 'trans_balance',\n",
    "    'k_symbol': 'trans_k_symbol',\n",
    "    'bank': 'trans_bank'\n",
    "  },\n",
    "  inplace=True\n",
    ")\n",
    "\n",
    "df_copy = pd.merge(\n",
    "  left=df,\n",
    "  right=trans_df,\n",
    "  on='account_id'\n",
    ")"
   ]
  },
  {
   "cell_type": "code",
   "execution_count": 152,
   "metadata": {},
   "outputs": [],
   "source": [
    "df_copy['trans_date'] = pd.to_datetime(df_copy['trans_date'])\n",
    "df_copy = df_copy.query('loan_date >= trans_date')"
   ]
  },
  {
   "cell_type": "code",
   "execution_count": 153,
   "metadata": {},
   "outputs": [],
   "source": [
    "def agg_trans(df):\n",
    "  return (\n",
    "    df\n",
    "    .groupby(['loan_id', 'account_id'])\n",
    "    .agg({\n",
    "      'trans_date': 'size',\n",
    "      'trans_amount': 'mean',\n",
    "      'trans_balance': 'mean'\n",
    "    })\n",
    "    .rename(columns={\n",
    "      'trans_date': f'n_trans',\n",
    "      'trans_amount': f'avg_trans_amount',\n",
    "      'trans_balance': f'avg_trans_balance'\n",
    "    })\n",
    ")"
   ]
  },
  {
   "cell_type": "code",
   "execution_count": 154,
   "metadata": {},
   "outputs": [],
   "source": [
    "trans_stats = agg_trans(df_copy)"
   ]
  },
  {
   "cell_type": "code",
   "execution_count": 155,
   "metadata": {},
   "outputs": [],
   "source": [
    "df = pd.merge(\n",
    "  left=df,\n",
    "  right=trans_stats,\n",
    "  on=['loan_id', 'account_id']\n",
    ")"
   ]
  },
  {
   "cell_type": "markdown",
   "metadata": {},
   "source": [
    "Join loan with orders"
   ]
  },
  {
   "cell_type": "code",
   "execution_count": 156,
   "metadata": {},
   "outputs": [],
   "source": [
    "order_stats = (order_df\n",
    "    .groupby(['account_id'])\n",
    "    .agg({'amount': 'mean',})\n",
    "    .rename(columns={'amount': 'avg_order_amount'})\n",
    ")"
   ]
  },
  {
   "cell_type": "code",
   "execution_count": 157,
   "metadata": {},
   "outputs": [],
   "source": [
    "df = pd.merge(\n",
    "  left=df,\n",
    "  right=order_stats,\n",
    "  on=['account_id']\n",
    ")"
   ]
  },
  {
   "cell_type": "code",
   "execution_count": 158,
   "metadata": {},
   "outputs": [
    {
     "data": {
      "text/plain": [
       "Index(['loan_id', 'account_id', 'loan_date', 'loan_amount', 'loan_duration',\n",
       "       'loan_payments', 'loan_status', 'district_id', 'account_frequency',\n",
       "       'account_date', 'days_between', 'disp_id', 'client_id', 'disp_type',\n",
       "       'card_id', 'card_type', 'card_issued', 'gender', 'birth_date', 'age',\n",
       "       'district_name', 'region_name', 'avg_salary', 'n_trans',\n",
       "       'avg_trans_amount', 'avg_trans_balance', 'avg_order_amount'],\n",
       "      dtype='object')"
      ]
     },
     "execution_count": 158,
     "metadata": {},
     "output_type": "execute_result"
    }
   ],
   "source": [
    "df.columns"
   ]
  },
  {
   "cell_type": "code",
   "execution_count": 159,
   "metadata": {},
   "outputs": [],
   "source": [
    "df = df[[\n",
    "  'loan_duration',\n",
    "  'loan_payments',\n",
    "  'days_between',\n",
    "  'account_frequency',\n",
    "  'avg_order_amount',\n",
    "  'avg_trans_amount',\n",
    "  'avg_trans_balance',\n",
    "  'n_trans',\n",
    "  'card_type',\n",
    "  'avg_salary',\n",
    "  'gender',\n",
    "  'age',\n",
    "  'loan_status'\n",
    "]]"
   ]
  },
  {
   "cell_type": "code",
   "execution_count": 160,
   "metadata": {},
   "outputs": [
    {
     "data": {
      "text/html": [
       "<div>\n",
       "<style scoped>\n",
       "    .dataframe tbody tr th:only-of-type {\n",
       "        vertical-align: middle;\n",
       "    }\n",
       "\n",
       "    .dataframe tbody tr th {\n",
       "        vertical-align: top;\n",
       "    }\n",
       "\n",
       "    .dataframe thead th {\n",
       "        text-align: right;\n",
       "    }\n",
       "</style>\n",
       "<table border=\"1\" class=\"dataframe\">\n",
       "  <thead>\n",
       "    <tr style=\"text-align: right;\">\n",
       "      <th></th>\n",
       "      <th>loan_duration</th>\n",
       "      <th>loan_payments</th>\n",
       "      <th>days_between</th>\n",
       "      <th>account_frequency</th>\n",
       "      <th>avg_order_amount</th>\n",
       "      <th>avg_trans_amount</th>\n",
       "      <th>avg_trans_balance</th>\n",
       "      <th>n_trans</th>\n",
       "      <th>card_type</th>\n",
       "      <th>avg_salary</th>\n",
       "      <th>gender</th>\n",
       "      <th>age</th>\n",
       "      <th>loan_status</th>\n",
       "    </tr>\n",
       "  </thead>\n",
       "  <tbody>\n",
       "    <tr>\n",
       "      <th>0</th>\n",
       "      <td>24</td>\n",
       "      <td>3373.00</td>\n",
       "      <td>313 days</td>\n",
       "      <td>POPLATEK MESICNE</td>\n",
       "      <td>5319.35</td>\n",
       "      <td>7941.818182</td>\n",
       "      <td>32372.290909</td>\n",
       "      <td>110</td>\n",
       "      <td>&lt;NA&gt;</td>\n",
       "      <td>12541</td>\n",
       "      <td>M</td>\n",
       "      <td>49</td>\n",
       "      <td>A</td>\n",
       "    </tr>\n",
       "    <tr>\n",
       "      <th>1</th>\n",
       "      <td>24</td>\n",
       "      <td>3373.00</td>\n",
       "      <td>313 days</td>\n",
       "      <td>POPLATEK MESICNE</td>\n",
       "      <td>5319.35</td>\n",
       "      <td>7941.818182</td>\n",
       "      <td>32372.290909</td>\n",
       "      <td>110</td>\n",
       "      <td>&lt;NA&gt;</td>\n",
       "      <td>12541</td>\n",
       "      <td>F</td>\n",
       "      <td>54</td>\n",
       "      <td>A</td>\n",
       "    </tr>\n",
       "    <tr>\n",
       "      <th>2</th>\n",
       "      <td>12</td>\n",
       "      <td>2523.00</td>\n",
       "      <td>388 days</td>\n",
       "      <td>POPLATEK MESICNE</td>\n",
       "      <td>2523.2</td>\n",
       "      <td>5856.35</td>\n",
       "      <td>25197.1375</td>\n",
       "      <td>80</td>\n",
       "      <td>&lt;NA&gt;</td>\n",
       "      <td>9104</td>\n",
       "      <td>F</td>\n",
       "      <td>57</td>\n",
       "      <td>B</td>\n",
       "    </tr>\n",
       "    <tr>\n",
       "      <th>3</th>\n",
       "      <td>12</td>\n",
       "      <td>2523.00</td>\n",
       "      <td>498 days</td>\n",
       "      <td>POPLATEK MESICNE</td>\n",
       "      <td>2653.55</td>\n",
       "      <td>12041.557576</td>\n",
       "      <td>62800.29697</td>\n",
       "      <td>165</td>\n",
       "      <td>&lt;NA&gt;</td>\n",
       "      <td>9893</td>\n",
       "      <td>M</td>\n",
       "      <td>35</td>\n",
       "      <td>A</td>\n",
       "    </tr>\n",
       "    <tr>\n",
       "      <th>4</th>\n",
       "      <td>24</td>\n",
       "      <td>6915.00</td>\n",
       "      <td>561 days</td>\n",
       "      <td>POPLATEK MESICNE</td>\n",
       "      <td>4584.333333</td>\n",
       "      <td>12822.4</td>\n",
       "      <td>52523.336</td>\n",
       "      <td>125</td>\n",
       "      <td>&lt;NA&gt;</td>\n",
       "      <td>8427</td>\n",
       "      <td>F</td>\n",
       "      <td>52</td>\n",
       "      <td>A</td>\n",
       "    </tr>\n",
       "  </tbody>\n",
       "</table>\n",
       "</div>"
      ],
      "text/plain": [
       "   loan_duration loan_payments days_between account_frequency  \\\n",
       "0             24       3373.00     313 days  POPLATEK MESICNE   \n",
       "1             24       3373.00     313 days  POPLATEK MESICNE   \n",
       "2             12       2523.00     388 days  POPLATEK MESICNE   \n",
       "3             12       2523.00     498 days  POPLATEK MESICNE   \n",
       "4             24       6915.00     561 days  POPLATEK MESICNE   \n",
       "\n",
       "  avg_order_amount  avg_trans_amount  avg_trans_balance  n_trans card_type  \\\n",
       "0          5319.35       7941.818182       32372.290909      110      <NA>   \n",
       "1          5319.35       7941.818182       32372.290909      110      <NA>   \n",
       "2           2523.2           5856.35         25197.1375       80      <NA>   \n",
       "3          2653.55      12041.557576        62800.29697      165      <NA>   \n",
       "4      4584.333333           12822.4          52523.336      125      <NA>   \n",
       "\n",
       "   avg_salary gender  age loan_status  \n",
       "0       12541      M   49           A  \n",
       "1       12541      F   54           A  \n",
       "2        9104      F   57           B  \n",
       "3        9893      M   35           A  \n",
       "4        8427      F   52           A  "
      ]
     },
     "execution_count": 160,
     "metadata": {},
     "output_type": "execute_result"
    }
   ],
   "source": [
    "df.head()"
   ]
  },
  {
   "cell_type": "code",
   "execution_count": 161,
   "metadata": {},
   "outputs": [],
   "source": [
    "df.to_csv('../datasets/loan_with_features.csv', index=False)"
   ]
  }
 ],
 "metadata": {
  "kernelspec": {
   "display_name": ".venv",
   "language": "python",
   "name": "python3"
  },
  "language_info": {
   "codemirror_mode": {
    "name": "ipython",
    "version": 3
   },
   "file_extension": ".py",
   "mimetype": "text/x-python",
   "name": "python",
   "nbconvert_exporter": "python",
   "pygments_lexer": "ipython3",
   "version": "3.10.0"
  }
 },
 "nbformat": 4,
 "nbformat_minor": 2
}
